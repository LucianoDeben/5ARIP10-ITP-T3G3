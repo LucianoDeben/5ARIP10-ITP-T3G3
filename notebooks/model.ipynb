{
 "cells": [
  {
   "cell_type": "code",
   "execution_count": null,
   "metadata": {},
   "outputs": [],
   "source": [
    "# Import libraries\n",
    "import sys\n",
    "sys.path.append('src/')\n",
    "from src.model import build_segformer3d_model, SegFormer3D\n",
    "from src.preprocessing import get_transforms, get_datasets, get_dataloaders\n",
    "import torch\n",
    "import matplotlib.pyplot as plt\n",
    "from src.train_validate import train, validate\n",
    "from tqdm import tqdm\n",
    "\n",
    "# Set the device\n",
    "device = torch.device(\"cuda:0\" if torch.cuda.is_available() else \"cpu\")\n",
    "print(device)"
   ]
  },
  {
   "cell_type": "code",
   "execution_count": null,
   "metadata": {},
   "outputs": [],
   "source": [
    "# Get transforms\n",
    "transform = get_transforms(resize_shape=[240, 240, 155], contrast_value=1000)\n",
    "\n",
    "# Get datasets\n",
    "train_ds, val_ds = get_datasets(\n",
    "    root_dir=\"../data\",\n",
    "    collection=\"HCC-TACE-Seg\",\n",
    "    transform=transform,\n",
    "    download_len=2,\n",
    "    val_frac=0.2,\n",
    ")\n",
    "\n",
    "# Get dataloaders\n",
    "train_loader, val_loader = get_dataloaders(train_ds, val_ds, batch_size=2)\n",
    "\n",
    "# Get datalists\n",
    "train_dl = train_ds.datalist\n",
    "val_dl = val_ds.datalist\n",
    "\n",
    "# Check length of datasets, dataloaders and datalists\n",
    "print(train_ds.get_indices(), val_ds.get_indices())\n",
    "print(len(train_loader), len(val_loader))\n",
    "print(len(train_dl), len(val_dl))"
   ]
  },
  {
   "cell_type": "code",
   "execution_count": null,
   "metadata": {},
   "outputs": [],
   "source": [
    "for inputs in tqdm(train_loader):\n",
    "    images, targets = inputs[\"image\"], inputs[\"seg\"]"
   ]
  },
  {
   "cell_type": "code",
   "execution_count": null,
   "metadata": {},
   "outputs": [],
   "source": [
    "images, targets = images.to(device), targets.to(device)\n",
    "model = SegFormer3D()\n",
    "criterion = torch.nn.CrossEntropyLoss()\n",
    "optimizer = torch.optim.AdamW(model.parameters(), lr=1e-4)"
   ]
  },
  {
   "cell_type": "code",
   "execution_count": null,
   "metadata": {},
   "outputs": [],
   "source": [
    "model = model.to(device)\n",
    "model.train()\n",
    "# optimizer.zero_grad()\n",
    "\n",
    "output = model(images)\n",
    "print(output.shape)\n",
    "# loss = criterion(outputs, targets)\n",
    "# loss.backward()\n",
    "# optimizer.step()\n",
    "\n",
    "# print(loss.item())"
   ]
  }
 ],
 "metadata": {
  "kernelspec": {
   "display_name": "torch-gpu",
   "language": "python",
   "name": "python3"
  },
  "language_info": {
   "codemirror_mode": {
    "name": "ipython",
    "version": 3
   },
   "file_extension": ".py",
   "mimetype": "text/x-python",
   "name": "python",
   "nbconvert_exporter": "python",
   "pygments_lexer": "ipython3",
   "version": "3.11.8"
  }
 },
 "nbformat": 4,
 "nbformat_minor": 2
}

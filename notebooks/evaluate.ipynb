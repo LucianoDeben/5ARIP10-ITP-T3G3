{
 "cells": [
  {
   "cell_type": "code",
   "execution_count": 1,
   "metadata": {},
   "outputs": [
    {
     "name": "stderr",
     "output_type": "stream",
     "text": [
      "Failed to detect the name of this notebook, you can set it manually with the WANDB_NOTEBOOK_NAME environment variable to enable code saving.\n",
      "wandb: Currently logged in as: ldeben20 (luciano-deben). Use `wandb login --relogin` to force relogin\n"
     ]
    },
    {
     "data": {
      "text/html": [
       "wandb version 0.17.0 is available!  To upgrade, please run:\n",
       " $ pip install wandb --upgrade"
      ],
      "text/plain": [
       "<IPython.core.display.HTML object>"
      ]
     },
     "metadata": {},
     "output_type": "display_data"
    },
    {
     "data": {
      "text/html": [
       "Tracking run with wandb version 0.16.4"
      ],
      "text/plain": [
       "<IPython.core.display.HTML object>"
      ]
     },
     "metadata": {},
     "output_type": "display_data"
    },
    {
     "data": {
      "text/html": [
       "Run data is saved locally in <code>d:\\Programming\\AI\\5ARIP10-ITP-T3G3\\notebooks\\wandb\\run-20240512_212220-05ttwsfi</code>"
      ],
      "text/plain": [
       "<IPython.core.display.HTML object>"
      ]
     },
     "metadata": {},
     "output_type": "display_data"
    },
    {
     "data": {
      "text/html": [
       "Syncing run <strong><a href='https://wandb.ai/luciano-deben/5ARIP10-T3G3/runs/05ttwsfi' target=\"_blank\">fine-puddle-29</a></strong> to <a href='https://wandb.ai/luciano-deben/5ARIP10-T3G3' target=\"_blank\">Weights & Biases</a> (<a href='https://wandb.me/run' target=\"_blank\">docs</a>)<br/>"
      ],
      "text/plain": [
       "<IPython.core.display.HTML object>"
      ]
     },
     "metadata": {},
     "output_type": "display_data"
    },
    {
     "data": {
      "text/html": [
       " View project at <a href='https://wandb.ai/luciano-deben/5ARIP10-T3G3' target=\"_blank\">https://wandb.ai/luciano-deben/5ARIP10-T3G3</a>"
      ],
      "text/plain": [
       "<IPython.core.display.HTML object>"
      ]
     },
     "metadata": {},
     "output_type": "display_data"
    },
    {
     "data": {
      "text/html": [
       " View run at <a href='https://wandb.ai/luciano-deben/5ARIP10-T3G3/runs/05ttwsfi' target=\"_blank\">https://wandb.ai/luciano-deben/5ARIP10-T3G3/runs/05ttwsfi</a>"
      ],
      "text/plain": [
       "<IPython.core.display.HTML object>"
      ]
     },
     "metadata": {},
     "output_type": "display_data"
    },
    {
     "name": "stdout",
     "output_type": "stream",
     "text": [
      "cuda:0\n"
     ]
    }
   ],
   "source": [
    "# Import libraries\n",
    "import sys\n",
    "\n",
    "sys.path.append(\"..\")\n",
    "from src.preprocessing import get_transforms, get_datasets, get_dataloaders\n",
    "\n",
    "import torch\n",
    "import matplotlib.pyplot as plt\n",
    "from src.config import config\n",
    "from src.model import SegFormer3D\n",
    "\n",
    "# Set the device\n",
    "device = torch.device(\"cuda:0\" if torch.cuda.is_available() else \"cpu\")\n",
    "print(device)"
   ]
  },
  {
   "cell_type": "code",
   "execution_count": 2,
   "metadata": {},
   "outputs": [
    {
     "name": "stdout",
     "output_type": "stream",
     "text": [
      "2024-05-12 21:22:37,578 - INFO - Expected md5 is None, skip md5 check for file ..\\data\\HCC-TACE-Seg\\1.2.276.0.7230010.3.1.3.8323329.41.1604860085.518229.zip.\n",
      "2024-05-12 21:22:37,578 - INFO - File exists: ..\\data\\HCC-TACE-Seg\\1.2.276.0.7230010.3.1.3.8323329.41.1604860085.518229.zip, skipped downloading.\n",
      "2024-05-12 21:22:37,578 - INFO - Writing into directory: ..\\data\\HCC-TACE-Seg\\raw\\1.2.276.0.7230010.3.1.3.8323329.41.1604860085.518229.\n",
      "2024-05-12 21:22:38,067 - INFO - Expected md5 is None, skip md5 check for file ..\\data\\HCC-TACE-Seg\\1.3.6.1.4.1.14519.5.2.1.1706.8374.172517341095680731665822868712.zip.\n",
      "2024-05-12 21:22:38,067 - INFO - File exists: ..\\data\\HCC-TACE-Seg\\1.3.6.1.4.1.14519.5.2.1.1706.8374.172517341095680731665822868712.zip, skipped downloading.\n",
      "2024-05-12 21:22:38,067 - INFO - Writing into directory: ..\\data\\HCC-TACE-Seg\\HCC_017\\300\\image.\n",
      "2024-05-12 21:22:38,370 - INFO - Expected md5 is None, skip md5 check for file ..\\data\\HCC-TACE-Seg\\1.2.276.0.7230010.3.1.3.8323329.2087.1600929091.391108.zip.\n",
      "2024-05-12 21:22:38,371 - INFO - File exists: ..\\data\\HCC-TACE-Seg\\1.2.276.0.7230010.3.1.3.8323329.2087.1600929091.391108.zip, skipped downloading.\n",
      "2024-05-12 21:22:38,372 - INFO - Writing into directory: ..\\data\\HCC-TACE-Seg\\raw\\1.2.276.0.7230010.3.1.3.8323329.2087.1600929091.391108.\n",
      "2024-05-12 21:22:38,974 - INFO - Expected md5 is None, skip md5 check for file ..\\data\\HCC-TACE-Seg\\1.3.6.1.4.1.14519.5.2.1.1706.8374.231513034103627633230071228105.zip.\n",
      "2024-05-12 21:22:38,974 - INFO - File exists: ..\\data\\HCC-TACE-Seg\\1.3.6.1.4.1.14519.5.2.1.1706.8374.231513034103627633230071228105.zip, skipped downloading.\n",
      "2024-05-12 21:22:38,975 - INFO - Writing into directory: ..\\data\\HCC-TACE-Seg\\HCC_077\\300\\image.\n",
      "2024-05-12 21:22:39,405 - INFO - Expected md5 is None, skip md5 check for file ..\\data\\HCC-TACE-Seg\\1.2.276.0.7230010.3.1.3.8323329.2159.1600929114.382937.zip.\n",
      "2024-05-12 21:22:39,405 - INFO - File exists: ..\\data\\HCC-TACE-Seg\\1.2.276.0.7230010.3.1.3.8323329.2159.1600929114.382937.zip, skipped downloading.\n",
      "2024-05-12 21:22:39,406 - INFO - Writing into directory: ..\\data\\HCC-TACE-Seg\\raw\\1.2.276.0.7230010.3.1.3.8323329.2159.1600929114.382937.\n",
      "2024-05-12 21:22:39,997 - INFO - Expected md5 is None, skip md5 check for file ..\\data\\HCC-TACE-Seg\\1.3.6.1.4.1.14519.5.2.1.1706.8374.328381013969207951913699003250.zip.\n",
      "2024-05-12 21:22:39,997 - INFO - File exists: ..\\data\\HCC-TACE-Seg\\1.3.6.1.4.1.14519.5.2.1.1706.8374.328381013969207951913699003250.zip, skipped downloading.\n",
      "2024-05-12 21:22:39,998 - INFO - Writing into directory: ..\\data\\HCC-TACE-Seg\\HCC_081\\300\\image.\n",
      "2024-05-12 21:22:40,400 - INFO - Expected md5 is None, skip md5 check for file ..\\data\\HCC-TACE-Seg\\1.2.276.0.7230010.3.1.3.8323329.2015.1600929060.445346.zip.\n",
      "2024-05-12 21:22:40,401 - INFO - File exists: ..\\data\\HCC-TACE-Seg\\1.2.276.0.7230010.3.1.3.8323329.2015.1600929060.445346.zip, skipped downloading.\n",
      "2024-05-12 21:22:40,401 - INFO - Writing into directory: ..\\data\\HCC-TACE-Seg\\raw\\1.2.276.0.7230010.3.1.3.8323329.2015.1600929060.445346.\n",
      "2024-05-12 21:22:41,265 - INFO - Expected md5 is None, skip md5 check for file ..\\data\\HCC-TACE-Seg\\1.3.6.1.4.1.14519.5.2.1.1706.8374.248128077663297154202444477856.zip.\n",
      "2024-05-12 21:22:41,265 - INFO - File exists: ..\\data\\HCC-TACE-Seg\\1.3.6.1.4.1.14519.5.2.1.1706.8374.248128077663297154202444477856.zip, skipped downloading.\n",
      "2024-05-12 21:22:41,266 - INFO - Writing into directory: ..\\data\\HCC-TACE-Seg\\HCC_073\\300\\image.\n",
      "2024-05-12 21:22:41,741 - INFO - Expected md5 is None, skip md5 check for file ..\\data\\HCC-TACE-Seg\\1.2.276.0.7230010.3.1.3.8323329.1619.1600928909.284416.zip.\n",
      "2024-05-12 21:22:41,744 - INFO - File exists: ..\\data\\HCC-TACE-Seg\\1.2.276.0.7230010.3.1.3.8323329.1619.1600928909.284416.zip, skipped downloading.\n",
      "2024-05-12 21:22:41,744 - INFO - Writing into directory: ..\\data\\HCC-TACE-Seg\\raw\\1.2.276.0.7230010.3.1.3.8323329.1619.1600928909.284416.\n",
      "2024-05-12 21:22:42,420 - INFO - Expected md5 is None, skip md5 check for file ..\\data\\HCC-TACE-Seg\\1.3.6.1.4.1.14519.5.2.1.1706.8374.168467877926914067122086638555.zip.\n",
      "2024-05-12 21:22:42,421 - INFO - File exists: ..\\data\\HCC-TACE-Seg\\1.3.6.1.4.1.14519.5.2.1.1706.8374.168467877926914067122086638555.zip, skipped downloading.\n",
      "2024-05-12 21:22:42,421 - INFO - Writing into directory: ..\\data\\HCC-TACE-Seg\\HCC_051\\300\\image.\n",
      "2024-05-12 21:22:45,210 - INFO - Expected md5 is None, skip md5 check for file ..\\data\\HCC-TACE-Seg\\1.2.276.0.7230010.3.1.3.8323329.41.1604860085.518229.zip.\n",
      "2024-05-12 21:22:45,210 - INFO - File exists: ..\\data\\HCC-TACE-Seg\\1.2.276.0.7230010.3.1.3.8323329.41.1604860085.518229.zip, skipped downloading.\n",
      "2024-05-12 21:22:45,210 - INFO - Writing into directory: ..\\data\\HCC-TACE-Seg\\raw\\1.2.276.0.7230010.3.1.3.8323329.41.1604860085.518229.\n",
      "2024-05-12 21:22:46,005 - INFO - Expected md5 is None, skip md5 check for file ..\\data\\HCC-TACE-Seg\\1.3.6.1.4.1.14519.5.2.1.1706.8374.172517341095680731665822868712.zip.\n",
      "2024-05-12 21:22:46,006 - INFO - File exists: ..\\data\\HCC-TACE-Seg\\1.3.6.1.4.1.14519.5.2.1.1706.8374.172517341095680731665822868712.zip, skipped downloading.\n",
      "2024-05-12 21:22:46,008 - INFO - Writing into directory: ..\\data\\HCC-TACE-Seg\\HCC_017\\300\\image.\n",
      "2024-05-12 21:22:46,424 - INFO - Expected md5 is None, skip md5 check for file ..\\data\\HCC-TACE-Seg\\1.2.276.0.7230010.3.1.3.8323329.2087.1600929091.391108.zip.\n",
      "2024-05-12 21:22:46,427 - INFO - File exists: ..\\data\\HCC-TACE-Seg\\1.2.276.0.7230010.3.1.3.8323329.2087.1600929091.391108.zip, skipped downloading.\n",
      "2024-05-12 21:22:46,429 - INFO - Writing into directory: ..\\data\\HCC-TACE-Seg\\raw\\1.2.276.0.7230010.3.1.3.8323329.2087.1600929091.391108.\n",
      "2024-05-12 21:22:47,423 - INFO - Expected md5 is None, skip md5 check for file ..\\data\\HCC-TACE-Seg\\1.3.6.1.4.1.14519.5.2.1.1706.8374.231513034103627633230071228105.zip.\n",
      "2024-05-12 21:22:47,424 - INFO - File exists: ..\\data\\HCC-TACE-Seg\\1.3.6.1.4.1.14519.5.2.1.1706.8374.231513034103627633230071228105.zip, skipped downloading.\n",
      "2024-05-12 21:22:47,427 - INFO - Writing into directory: ..\\data\\HCC-TACE-Seg\\HCC_077\\300\\image.\n",
      "2024-05-12 21:22:47,935 - INFO - Expected md5 is None, skip md5 check for file ..\\data\\HCC-TACE-Seg\\1.2.276.0.7230010.3.1.3.8323329.2159.1600929114.382937.zip.\n",
      "2024-05-12 21:22:47,936 - INFO - File exists: ..\\data\\HCC-TACE-Seg\\1.2.276.0.7230010.3.1.3.8323329.2159.1600929114.382937.zip, skipped downloading.\n",
      "2024-05-12 21:22:47,938 - INFO - Writing into directory: ..\\data\\HCC-TACE-Seg\\raw\\1.2.276.0.7230010.3.1.3.8323329.2159.1600929114.382937.\n",
      "2024-05-12 21:22:49,059 - INFO - Expected md5 is None, skip md5 check for file ..\\data\\HCC-TACE-Seg\\1.3.6.1.4.1.14519.5.2.1.1706.8374.328381013969207951913699003250.zip.\n",
      "2024-05-12 21:22:49,059 - INFO - File exists: ..\\data\\HCC-TACE-Seg\\1.3.6.1.4.1.14519.5.2.1.1706.8374.328381013969207951913699003250.zip, skipped downloading.\n",
      "2024-05-12 21:22:49,060 - INFO - Writing into directory: ..\\data\\HCC-TACE-Seg\\HCC_081\\300\\image.\n",
      "2024-05-12 21:22:49,582 - INFO - Expected md5 is None, skip md5 check for file ..\\data\\HCC-TACE-Seg\\1.2.276.0.7230010.3.1.3.8323329.2015.1600929060.445346.zip.\n",
      "2024-05-12 21:22:49,583 - INFO - File exists: ..\\data\\HCC-TACE-Seg\\1.2.276.0.7230010.3.1.3.8323329.2015.1600929060.445346.zip, skipped downloading.\n",
      "2024-05-12 21:22:49,583 - INFO - Writing into directory: ..\\data\\HCC-TACE-Seg\\raw\\1.2.276.0.7230010.3.1.3.8323329.2015.1600929060.445346.\n",
      "2024-05-12 21:22:50,329 - INFO - Expected md5 is None, skip md5 check for file ..\\data\\HCC-TACE-Seg\\1.3.6.1.4.1.14519.5.2.1.1706.8374.248128077663297154202444477856.zip.\n",
      "2024-05-12 21:22:50,330 - INFO - File exists: ..\\data\\HCC-TACE-Seg\\1.3.6.1.4.1.14519.5.2.1.1706.8374.248128077663297154202444477856.zip, skipped downloading.\n",
      "2024-05-12 21:22:50,330 - INFO - Writing into directory: ..\\data\\HCC-TACE-Seg\\HCC_073\\300\\image.\n",
      "2024-05-12 21:22:50,844 - INFO - Expected md5 is None, skip md5 check for file ..\\data\\HCC-TACE-Seg\\1.2.276.0.7230010.3.1.3.8323329.1619.1600928909.284416.zip.\n",
      "2024-05-12 21:22:50,844 - INFO - File exists: ..\\data\\HCC-TACE-Seg\\1.2.276.0.7230010.3.1.3.8323329.1619.1600928909.284416.zip, skipped downloading.\n",
      "2024-05-12 21:22:50,844 - INFO - Writing into directory: ..\\data\\HCC-TACE-Seg\\raw\\1.2.276.0.7230010.3.1.3.8323329.1619.1600928909.284416.\n",
      "2024-05-12 21:22:51,479 - INFO - Expected md5 is None, skip md5 check for file ..\\data\\HCC-TACE-Seg\\1.3.6.1.4.1.14519.5.2.1.1706.8374.168467877926914067122086638555.zip.\n",
      "2024-05-12 21:22:51,480 - INFO - File exists: ..\\data\\HCC-TACE-Seg\\1.3.6.1.4.1.14519.5.2.1.1706.8374.168467877926914067122086638555.zip, skipped downloading.\n",
      "2024-05-12 21:22:51,481 - INFO - Writing into directory: ..\\data\\HCC-TACE-Seg\\HCC_051\\300\\image.\n"
     ]
    }
   ],
   "source": [
    "# Get the transforms\n",
    "transform = get_transforms(\n",
    "    resize_shape=config[\"resize_shape\"], contrast_value=config[\"contrast_value\"]\n",
    ")\n",
    "\n",
    "# Get the datasets\n",
    "train_dataset, val_dataset = get_datasets(\n",
    "    root_dir=\"../data\",\n",
    "    collection=\"HCC-TACE-Seg\",\n",
    "    transform=transform,\n",
    "    download=True,\n",
    "    download_len=5,\n",
    "    seg_type=\"SEG\",\n",
    "    val_frac=config[\"val_frac\"],\n",
    "    seed=config[\"seed\"],\n",
    ")\n",
    "\n",
    "# Get the dataloaders\n",
    "train_loader, val_loader = get_dataloaders(\n",
    "    train_dataset,\n",
    "    val_dataset,\n",
    "    batch_size=config[\"batch_size\"],\n",
    "    num_workers=config[\"num_workers\"],\n",
    ")"
   ]
  },
  {
   "cell_type": "code",
   "execution_count": 10,
   "metadata": {},
   "outputs": [
    {
     "name": "stdout",
     "output_type": "stream",
     "text": [
      "torch.Size([1, 1, 256, 256, 48]) torch.Size([1, 256, 256, 48])\n"
     ]
    }
   ],
   "source": [
    "# Sample a batch of data from the dataloader\n",
    "batch = next(iter(train_loader))\n",
    "\n",
    "# Separate the image and segmentation from the batch\n",
    "image, seg = batch[\"image\"], batch[\"seg\"][:, 2]\n",
    "\n",
    "print(image.shape, seg.shape)"
   ]
  },
  {
   "cell_type": "code",
   "execution_count": 11,
   "metadata": {},
   "outputs": [],
   "source": [
    "# Evaluate the model\n",
    "model = SegFormer3D(num_classes=config[\"num_classes\"])\n",
    "model.load_state_dict(torch.load(\"../models/model.pth\"))\n",
    "model.eval()\n",
    "\n",
    "# Move the model to the device\n",
    "model = model.to(device)"
   ]
  },
  {
   "cell_type": "code",
   "execution_count": 12,
   "metadata": {},
   "outputs": [
    {
     "name": "stdout",
     "output_type": "stream",
     "text": [
      "torch.Size([1, 1, 256, 256, 48])\n",
      "metatensor([0., 1.], device='cuda:0')\n"
     ]
    }
   ],
   "source": [
    "# Set a evaluation script\n",
    "outputs = model(image.to(device))\n",
    "prediction = (torch.sigmoid(outputs) > 0.5).float()\n",
    "\n",
    "print(prediction.shape)\n",
    "print(prediction.unique())"
   ]
  },
  {
   "cell_type": "code",
   "execution_count": 13,
   "metadata": {},
   "outputs": [
    {
     "name": "stdout",
     "output_type": "stream",
     "text": [
      "torch.Size([1, 1, 256, 256, 48]) torch.Size([1, 256, 256, 48])\n"
     ]
    }
   ],
   "source": [
    "import nibabel as nib\n",
    "import numpy as np\n",
    "\n",
    "print(prediction.shape, seg.shape)\n",
    "\n",
    "# Check if the first dimension is 1 before squeezing\n",
    "prediction = prediction.squeeze((0, 1))\n",
    "\n",
    "# Convert to numpy array and change dtype to float32\n",
    "prediction_numpy = prediction.cpu().numpy().astype(np.float32)\n",
    "\n",
    "# Save the segmentation target\n",
    "if seg.size(0) == 1:\n",
    "    seg = seg.squeeze(0)\n",
    "\n",
    "seg_numpy = seg.cpu().numpy().astype(np.float32)\n"
   ]
  },
  {
   "cell_type": "code",
   "execution_count": 14,
   "metadata": {},
   "outputs": [
    {
     "name": "stdout",
     "output_type": "stream",
     "text": [
      "(array([0., 1.], dtype=float32), array([3015732,  129996], dtype=int64))\n",
      "(array([0., 1.], dtype=float32), array([3137964,    7764], dtype=int64))\n",
      "Number of differing voxels: 123870\n"
     ]
    }
   ],
   "source": [
    "# Check the unique values and their count\n",
    "print(np.unique(prediction_numpy, return_counts=True))\n",
    "\n",
    "print(np.unique(seg_numpy, return_counts=True))\n",
    "\n",
    "difference = prediction_numpy - seg_numpy\n",
    "num_differing_voxels = np.count_nonzero(difference)\n",
    "print(f\"Number of differing voxels: {num_differing_voxels}\")"
   ]
  },
  {
   "cell_type": "code",
   "execution_count": 9,
   "metadata": {},
   "outputs": [],
   "source": [
    "# Save prediction and target volumes as nifti files\n",
    "new_image = nib.Nifti1Image(prediction_numpy, np.eye(4))\n",
    "nib.save(new_image, \"prediction.nii\")\n",
    "\n",
    "new_image = nib.Nifti1Image(seg_numpy, np.eye(4))\n",
    "nib.save(new_image, \"target.nii\")"
   ]
  }
 ],
 "metadata": {
  "kernelspec": {
   "display_name": "torch-gpu",
   "language": "python",
   "name": "python3"
  },
  "language_info": {
   "codemirror_mode": {
    "name": "ipython",
    "version": 3
   },
   "file_extension": ".py",
   "mimetype": "text/x-python",
   "name": "python",
   "nbconvert_exporter": "python",
   "pygments_lexer": "ipython3",
   "version": "3.11.8"
  }
 },
 "nbformat": 4,
 "nbformat_minor": 2
}

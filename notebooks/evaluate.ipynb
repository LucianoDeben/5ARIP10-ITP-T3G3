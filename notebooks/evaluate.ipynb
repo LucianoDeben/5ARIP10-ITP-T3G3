{
 "cells": [
  {
   "cell_type": "code",
   "execution_count": 1,
   "metadata": {},
   "outputs": [
    {
     "ename": "ModuleNotFoundError",
     "evalue": "No module named 'custom_transforms'",
     "output_type": "error",
     "traceback": [
      "\u001b[1;31m---------------------------------------------------------------------------\u001b[0m",
      "\u001b[1;31mModuleNotFoundError\u001b[0m                       Traceback (most recent call last)",
      "Cell \u001b[1;32mIn[1], line 5\u001b[0m\n\u001b[0;32m      2\u001b[0m \u001b[38;5;28;01mimport\u001b[39;00m \u001b[38;5;21;01msys\u001b[39;00m\n\u001b[0;32m      4\u001b[0m sys\u001b[38;5;241m.\u001b[39mpath\u001b[38;5;241m.\u001b[39mappend(\u001b[38;5;124m\"\u001b[39m\u001b[38;5;124m..\u001b[39m\u001b[38;5;124m\"\u001b[39m)\n\u001b[1;32m----> 5\u001b[0m \u001b[38;5;28;01mfrom\u001b[39;00m \u001b[38;5;21;01msrc\u001b[39;00m\u001b[38;5;21;01m.\u001b[39;00m\u001b[38;5;21;01mpreprocessing\u001b[39;00m \u001b[38;5;28;01mimport\u001b[39;00m get_transforms, get_datasets, get_dataloaders\n\u001b[0;32m      7\u001b[0m \u001b[38;5;28;01mimport\u001b[39;00m \u001b[38;5;21;01mtorch\u001b[39;00m\n\u001b[0;32m      8\u001b[0m \u001b[38;5;28;01mimport\u001b[39;00m \u001b[38;5;21;01mmatplotlib\u001b[39;00m\u001b[38;5;21;01m.\u001b[39;00m\u001b[38;5;21;01mpyplot\u001b[39;00m \u001b[38;5;28;01mas\u001b[39;00m \u001b[38;5;21;01mplt\u001b[39;00m\n",
      "File \u001b[1;32md:\\Programming\\AI\\5ARIP10-ITP-T3G3\\notebooks\\..\\src\\preprocessing.py:21\u001b[0m\n\u001b[0;32m      4\u001b[0m \u001b[38;5;28;01mfrom\u001b[39;00m \u001b[38;5;21;01mmonai\u001b[39;00m\u001b[38;5;21;01m.\u001b[39;00m\u001b[38;5;21;01mdata\u001b[39;00m \u001b[38;5;28;01mimport\u001b[39;00m DataLoader\n\u001b[0;32m      5\u001b[0m \u001b[38;5;28;01mfrom\u001b[39;00m \u001b[38;5;21;01mmonai\u001b[39;00m\u001b[38;5;21;01m.\u001b[39;00m\u001b[38;5;21;01mtransforms\u001b[39;00m \u001b[38;5;28;01mimport\u001b[39;00m (\n\u001b[0;32m      6\u001b[0m     Compose,\n\u001b[0;32m      7\u001b[0m     DataStatsd,\n\u001b[1;32m   (...)\u001b[0m\n\u001b[0;32m     18\u001b[0m     ScaleIntensityRanged,\n\u001b[0;32m     19\u001b[0m )\n\u001b[1;32m---> 21\u001b[0m \u001b[38;5;28;01mfrom\u001b[39;00m \u001b[38;5;21;01mcustom_transforms\u001b[39;00m \u001b[38;5;28;01mimport\u001b[39;00m (\n\u001b[0;32m     22\u001b[0m     AddBackgroundChannel,\n\u001b[0;32m     23\u001b[0m     AddVesselContrast,\n\u001b[0;32m     24\u001b[0m     ConvertToSingleChannel,\n\u001b[0;32m     25\u001b[0m     IsolateArteries,\n\u001b[0;32m     26\u001b[0m     RemoveDualImage,\n\u001b[0;32m     27\u001b[0m     RemoveNecrosisChannel,\n\u001b[0;32m     28\u001b[0m )\n\u001b[0;32m     31\u001b[0m \u001b[38;5;28;01mdef\u001b[39;00m \u001b[38;5;21mget_transforms\u001b[39m(resize_shape\u001b[38;5;241m=\u001b[39m[\u001b[38;5;241m256\u001b[39m, \u001b[38;5;241m256\u001b[39m, \u001b[38;5;241m48\u001b[39m], contrast_value\u001b[38;5;241m=\u001b[39m\u001b[38;5;241m100\u001b[39m, is_train\u001b[38;5;241m=\u001b[39m\u001b[38;5;28;01mTrue\u001b[39;00m):\n\u001b[0;32m     32\u001b[0m \u001b[38;5;250m    \u001b[39m\u001b[38;5;124;03m\"\"\"\u001b[39;00m\n\u001b[0;32m     33\u001b[0m \u001b[38;5;124;03m    Create a composed transform for the data preprocessing of mask and image data\u001b[39;00m\n\u001b[0;32m     34\u001b[0m \n\u001b[1;32m   (...)\u001b[0m\n\u001b[0;32m     39\u001b[0m \u001b[38;5;124;03m        transform: The composed transform\u001b[39;00m\n\u001b[0;32m     40\u001b[0m \u001b[38;5;124;03m    \"\"\"\u001b[39;00m\n",
      "\u001b[1;31mModuleNotFoundError\u001b[0m: No module named 'custom_transforms'"
     ]
    }
   ],
   "source": [
    "# Import libraries\n",
    "import sys\n",
    "\n",
    "sys.path.append(\"..\")\n",
    "from src.preprocessing import get_transforms, get_datasets, get_dataloaders\n",
    "\n",
    "import torch\n",
    "import matplotlib.pyplot as plt\n",
    "from src.config import config\n",
    "from src.model import SegFormer3D\n",
    "\n",
    "# Set the device\n",
    "device = torch.device(\"cuda:0\" if torch.cuda.is_available() else \"cpu\")\n",
    "print(device)"
   ]
  },
  {
   "cell_type": "code",
   "execution_count": null,
   "metadata": {},
   "outputs": [],
   "source": [
    "# Get the transforms\n",
    "transform = get_transforms(\n",
    "    resize_shape=config[\"resize_shape\"], contrast_value=config[\"contrast_value\"]\n",
    ")\n",
    "\n",
    "# Get the datasets\n",
    "train_dataset, val_dataset = get_datasets(\n",
    "    root_dir=\"../data\",\n",
    "    collection=\"HCC-TACE-Seg\",\n",
    "    transform=transform,\n",
    "    download=True,\n",
    "    download_len=5,\n",
    "    seg_type=\"SEG\",\n",
    "    val_frac=config[\"val_frac\"],\n",
    "    seed=config[\"seed\"],\n",
    ")\n",
    "\n",
    "# Get the dataloaders\n",
    "train_loader, val_loader = get_dataloaders(\n",
    "    train_dataset,\n",
    "    val_dataset,\n",
    "    batch_size=config[\"batch_size\"],\n",
    "    num_workers=config[\"num_workers\"],\n",
    ")"
   ]
  },
  {
   "cell_type": "code",
   "execution_count": null,
   "metadata": {},
   "outputs": [],
   "source": [
    "# Sample a batch of data from the dataloader\n",
    "batch = next(iter(train_loader))\n",
    "\n",
    "# Separate the image and segmentation from the batch\n",
    "image, seg = batch[\"image\"], batch[\"seg\"][:, 2]\n",
    "\n",
    "print(image.shape, seg.shape)"
   ]
  },
  {
   "cell_type": "code",
   "execution_count": null,
   "metadata": {},
   "outputs": [],
   "source": [
    "# Evaluate the model\n",
    "model = SegFormer3D(num_classes=config[\"num_classes\"])\n",
    "model.load_state_dict(torch.load(\"../models/model.pth\"))\n",
    "model.eval()\n",
    "\n",
    "# Move the model to the device\n",
    "model = model.to(device)"
   ]
  },
  {
   "cell_type": "code",
   "execution_count": null,
   "metadata": {},
   "outputs": [],
   "source": [
    "# Set a evaluation script\n",
    "outputs = model(image.to(device))\n",
    "prediction = (torch.sigmoid(outputs) > 0.5).float()\n",
    "\n",
    "print(prediction.shape)\n",
    "print(prediction.unique())"
   ]
  },
  {
   "cell_type": "code",
   "execution_count": null,
   "metadata": {},
   "outputs": [],
   "source": [
    "import nibabel as nib\n",
    "import numpy as np\n",
    "\n",
    "print(prediction.shape, seg.shape)\n",
    "\n",
    "# Check if the first dimension is 1 before squeezing\n",
    "prediction = prediction.squeeze((0, 1))\n",
    "\n",
    "# Convert to numpy array and change dtype to float32\n",
    "prediction_numpy = prediction.cpu().numpy().astype(np.float32)\n",
    "\n",
    "# Save the segmentation target\n",
    "if seg.size(0) == 1:\n",
    "    seg = seg.squeeze(0)\n",
    "\n",
    "seg_numpy = seg.cpu().numpy().astype(np.float32)\n"
   ]
  },
  {
   "cell_type": "code",
   "execution_count": null,
   "metadata": {},
   "outputs": [],
   "source": [
    "# Check the unique values and their count\n",
    "print(np.unique(prediction_numpy, return_counts=True))\n",
    "\n",
    "print(np.unique(seg_numpy, return_counts=True))\n",
    "\n",
    "difference = prediction_numpy - seg_numpy\n",
    "num_differing_voxels = np.count_nonzero(difference)\n",
    "print(f\"Number of differing voxels: {num_differing_voxels}\")"
   ]
  },
  {
   "cell_type": "code",
   "execution_count": null,
   "metadata": {},
   "outputs": [],
   "source": [
    "# Save prediction and target volumes as nifti files\n",
    "new_image = nib.Nifti1Image(prediction_numpy, np.eye(4))\n",
    "nib.save(new_image, \"prediction.nii\")\n",
    "\n",
    "new_image = nib.Nifti1Image(seg_numpy, np.eye(4))\n",
    "nib.save(new_image, \"target.nii\")"
   ]
  }
 ],
 "metadata": {
  "kernelspec": {
   "display_name": "torch-gpu",
   "language": "python",
   "name": "python3"
  },
  "language_info": {
   "codemirror_mode": {
    "name": "ipython",
    "version": 3
   },
   "file_extension": ".py",
   "mimetype": "text/x-python",
   "name": "python",
   "nbconvert_exporter": "python",
   "pygments_lexer": "ipython3",
   "version": "3.11.8"
  }
 },
 "nbformat": 4,
 "nbformat_minor": 2
}

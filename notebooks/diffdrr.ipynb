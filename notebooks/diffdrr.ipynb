{
 "cells": [
  {
   "cell_type": "code",
   "execution_count": null,
   "metadata": {},
   "outputs": [],
   "source": [
    "# Import libraries\n",
    "import sys\n",
    "\n",
    "sys.path.append(\"..\")\n",
    "\n",
    "from src.preprocessing import get_transforms, get_datasets, get_dataloaders\n",
    "from src.utils import get_spacing, get_iso_center\n",
    "\n",
    "import torch\n",
    "import matplotlib.pyplot as plt\n",
    "\n",
    "import matplotlib.pyplot as plt\n",
    "\n",
    "from diffdrr.drr import DRR\n",
    "from diffdrr.visualization import plot_drr\n",
    "from diffdrr.data import read\n",
    "\n",
    "from diffdrr.pose import convert\n",
    "from diffdrr.visualization import drr_to_mesh, img_to_mesh\n",
    "import pyvista\n",
    "\n",
    "# Set the device\n",
    "device = torch.device(\"cuda:0\" if torch.cuda.is_available() else \"cpu\")\n",
    "print(device)"
   ]
  },
  {
   "cell_type": "code",
   "execution_count": null,
   "metadata": {},
   "outputs": [],
   "source": [
    "# Get transforms\n",
    "transform = get_transforms(contrast_value=1000)\n",
    "\n",
    "# Get datasets\n",
    "train_ds, val_ds = get_datasets(\n",
    "    root_dir=\"../data\",\n",
    "    collection=\"HCC-TACE-Seg\",\n",
    "    transform=transform,\n",
    "    download_len=5,\n",
    "    val_frac=0.2,\n",
    ")\n",
    "\n",
    "# Get dataloaders\n",
    "train_loader, val_loader = get_dataloaders(train_ds, val_ds, batch_size=1)\n",
    "\n",
    "# Get datalists\n",
    "train_dl = train_ds.datalist\n",
    "val_dl = val_ds.datalist\n",
    "\n",
    "# Check length of datasets, dataloaders and datalists\n",
    "print(train_ds.get_indices(), val_ds.get_indices())\n",
    "print(len(train_loader), len(val_loader))\n",
    "print(len(train_dl), len(val_dl))"
   ]
  },
  {
   "cell_type": "code",
   "execution_count": null,
   "metadata": {},
   "outputs": [],
   "source": [
    "# Sample a batch of data from the dataloader\n",
    "batch = next(iter(train_loader))\n",
    "\n",
    "# Separate the image and segmentation from the batch\n",
    "image, seg = batch[\"image\"], batch[\"seg\"]\n",
    "\n",
    "print(image.shape, seg.shape)\n",
    "print(image.dtype, seg.dtype)"
   ]
  },
  {
   "cell_type": "code",
   "execution_count": null,
   "metadata": {},
   "outputs": [],
   "source": [
    "# labels = [\"Liver\", \"Mass\", \"Portal vein\", \"Abdominal aorta\", \"Background\"]\n",
    "\n",
    "# structures = [\"Liver\", \"Mass\", \"Portal vein\", \"Abdominal aorta\", \"Background\"]\n",
    "# labels = subject.structures.query(f\"group in {structures}\")[\"id\"].tolist()\n",
    "\n",
    "# Read in CT volume and label map\n",
    "subject = read(tensor=image[0], label_tensor=seg[0], orientation=\"AP\", bone_attenuation_multiplier=5)"
   ]
  },
  {
   "cell_type": "code",
   "execution_count": null,
   "metadata": {},
   "outputs": [],
   "source": [
    "subject_path = read(\n",
    "    filename=train_dl[0][\"image\"],\n",
    "    orientation=\"AP\",\n",
    "    bone_attenuation_multiplier=3,\n",
    ")"
   ]
  },
  {
   "cell_type": "code",
   "execution_count": null,
   "metadata": {},
   "outputs": [],
   "source": [
    "print(subject_path[\"volume\"])\n",
    "print(subject[\"volume\"])"
   ]
  },
  {
   "cell_type": "code",
   "execution_count": null,
   "metadata": {},
   "outputs": [],
   "source": [
    "print(subject[\"volume\"].affine)\n",
    "print(subject_path[\"volume\"].affine)"
   ]
  },
  {
   "cell_type": "code",
   "execution_count": null,
   "metadata": {},
   "outputs": [],
   "source": [
    "# Create a DRR object\n",
    "drr = DRR(\n",
    "    subject,  # A torchio.Subject object storing the CT volume, origin, and voxel spacing\n",
    "    sdd=1020,  # Source-to-detector distance (i.e., the C-arm's focal length)\n",
    "    height=200,  # Height of the DRR (if width is not seperately provided, the generated image is square)\n",
    "    width=200,  # Width of the DRR\n",
    "    delx=2.0,  # Pixel spacing (in mm)\n",
    "    dely=2.0,  # Pixel spacing (in mm)\n",
    "    x0=0,  # # Principal point X-offset\n",
    "    y0=0,  # Principal point Y-offset\n",
    "    p_subsample = None,  # Proportion of pixels to randomly subsample\n",
    "    reshape = True,  # Return DRR with shape (b, 1, h, w)\n",
    "    reverse_x_axis = True,  # If True, obey radiologic convention (e.g., heart on right)\n",
    "    patch_size = None,  # Render patches of the DRR in series\n",
    "    renderer = \"siddon\",  # Rendering backend, either \"siddon\" or \"trilinear\"\n",
    ").to(device)"
   ]
  },
  {
   "cell_type": "code",
   "execution_count": 38,
   "metadata": {},
   "outputs": [
    {
     "name": "stdout",
     "output_type": "stream",
     "text": [
      "torch.Size([1, 200, 200])\n"
     ]
    },
    {
     "data": {
      "image/png": "[encoded data removed]",
      "text/plain": [
       "<Figure size 1000x500 with 1 Axes>"
      ]
     },
     "metadata": {},
     "output_type": "display_data"
    }
   ],
   "source": [
    "# Set the camera pose with rotations (yaw, pitch, roll) and translations (x, y, z)\n",
    "rotations = torch.tensor([[0.0, 0.0, 0.0]], device=device)\n",
    "translations = torch.tensor([[0.0, 850.0, 0.0]], device=device)\n",
    "img = drr(rotations, translations, parameterization=\"euler_angles\", convention=\"ZXY\", mask_to_channels = True)\n",
    "print(img[:, 0, :, :].shape)\n",
    "plot_drr(img[:, 0, :,:].unsqueeze(dim=1), ticks=False)\n",
    "plt.show()"
   ]
  },
  {
   "cell_type": "code",
   "execution_count": null,
   "metadata": {},
   "outputs": [],
   "source": [
    "# from diffdrr.visualization import plot_mask\n",
    "\n",
    "# # labels = [\"Liver\", \"Mass\", \"Portal vein\", \"Abdominal aorta\", \"Background\"]\n",
    "\n",
    "# # Relabel classes in the TotalSegmentator dataset\n",
    "# groups = {\n",
    "#     \"Liver\": \"Liver\",\n",
    "#     \"Mass\": \"Mass\",\n",
    "#     \"Portal vein\": \"Portal vein\",\n",
    "#     \"Abdominal aorta\": \"Abdominal aorta\",\n",
    "#     \"Background\": \"Background\",\n",
    "# }\n",
    "\n",
    "# # Plot the segmentation masks\n",
    "# fig, axs = plt.subplots(\n",
    "#     nrows=2,\n",
    "#     ncols=4,\n",
    "#     figsize=(14, 7.75),\n",
    "#     tight_layout=True,\n",
    "#     dpi=300,\n",
    "# )\n",
    "\n",
    "# im = img.sum(dim=1, keepdim=True)\n",
    "# plot_drr(im, axs=axs[0, 0], ticks=False, title=\"DRR\")\n",
    "# plot_drr(im, axs=axs[1, 0], ticks=False, title=\"All Segmentations\")\n",
    "\n",
    "# for (group, title), ax in zip(groups.items(), axs[:, 1:].flatten()):\n",
    "#     jdxs = subject.mask.query(f\"group == '{group}'\")[\"id\"].tolist()\n",
    "#     im = img[:, jdxs]\n",
    "#     plot_drr(im.sum(dim=1, keepdim=True), title=title, axs=ax, ticks=False)\n",
    "#     masks = plot_mask(im, axs=ax, return_masks=True)\n",
    "#     for jdx in range(masks.shape[1]):\n",
    "#         axs[1, 0].imshow(masks[0, jdx], alpha=0.5)\n",
    "# plt.show()"
   ]
  }
 ],
 "metadata": {
  "kernelspec": {
   "display_name": "torch-gpu",
   "language": "python",
   "name": "python3"
  },
  "language_info": {
   "codemirror_mode": {
    "name": "ipython",
    "version": 3
   },
   "file_extension": ".py",
   "mimetype": "text/x-python",
   "name": "python",
   "nbconvert_exporter": "python",
   "pygments_lexer": "ipython3",
   "version": "3.11.8"
  }
 },
 "nbformat": 4,
 "nbformat_minor": 2
}

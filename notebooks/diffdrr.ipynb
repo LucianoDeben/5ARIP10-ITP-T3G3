{
 "cells": [
  {
   "cell_type": "code",
   "execution_count": 1,
   "metadata": {},
   "outputs": [
    {
     "name": "stdout",
     "output_type": "stream",
     "text": [
      "cuda:0\n"
     ]
    }
   ],
   "source": [
    "# Import libraries\n",
    "import sys\n",
    "\n",
    "sys.path.append(\"..\")\n",
    "\n",
    "from src.preprocessing import get_transforms, get_datasets, get_dataloaders\n",
    "from src.utils import get_spacing, get_iso_center\n",
    "\n",
    "import torch\n",
    "import matplotlib.pyplot as plt\n",
    "\n",
    "import matplotlib.pyplot as plt\n",
    "\n",
    "from diffdrr.drr import DRR\n",
    "from diffdrr.visualization import plot_drr\n",
    "from diffdrr.data import read\n",
    "\n",
    "from diffdrr.pose import convert\n",
    "from diffdrr.visualization import drr_to_mesh, img_to_mesh\n",
    "import pyvista\n",
    "\n",
    "# Set the device\n",
    "device = torch.device(\"cuda:0\" if torch.cuda.is_available() else \"cpu\")\n",
    "print(device)"
   ]
  },
  {
   "cell_type": "code",
   "execution_count": 2,
   "metadata": {},
   "outputs": [
    {
     "name": "stdout",
     "output_type": "stream",
     "text": [
      "2024-04-26 09:52:41,287 - INFO - Expected md5 is None, skip md5 check for file ..\\data\\HCC-TACE-Seg\\1.2.276.0.7230010.3.1.3.8323329.41.1604860085.518229.zip.\n",
      "2024-04-26 09:52:41,287 - INFO - File exists: ..\\data\\HCC-TACE-Seg\\1.2.276.0.7230010.3.1.3.8323329.41.1604860085.518229.zip, skipped downloading.\n",
      "2024-04-26 09:52:41,287 - INFO - Writing into directory: ..\\data\\HCC-TACE-Seg\\raw\\1.2.276.0.7230010.3.1.3.8323329.41.1604860085.518229.\n",
      "2024-04-26 09:52:41,803 - INFO - Expected md5 is None, skip md5 check for file ..\\data\\HCC-TACE-Seg\\1.3.6.1.4.1.14519.5.2.1.1706.8374.172517341095680731665822868712.zip.\n",
      "2024-04-26 09:52:41,803 - INFO - File exists: ..\\data\\HCC-TACE-Seg\\1.3.6.1.4.1.14519.5.2.1.1706.8374.172517341095680731665822868712.zip, skipped downloading.\n",
      "2024-04-26 09:52:41,803 - INFO - Writing into directory: ..\\data\\HCC-TACE-Seg\\HCC_017\\300\\image.\n",
      "2024-04-26 09:52:42,103 - INFO - Expected md5 is None, skip md5 check for file ..\\data\\HCC-TACE-Seg\\1.2.276.0.7230010.3.1.3.8323329.2087.1600929091.391108.zip.\n",
      "2024-04-26 09:52:42,103 - INFO - File exists: ..\\data\\HCC-TACE-Seg\\1.2.276.0.7230010.3.1.3.8323329.2087.1600929091.391108.zip, skipped downloading.\n",
      "2024-04-26 09:52:42,103 - INFO - Writing into directory: ..\\data\\HCC-TACE-Seg\\raw\\1.2.276.0.7230010.3.1.3.8323329.2087.1600929091.391108.\n",
      "2024-04-26 09:52:42,671 - INFO - Expected md5 is None, skip md5 check for file ..\\data\\HCC-TACE-Seg\\1.3.6.1.4.1.14519.5.2.1.1706.8374.231513034103627633230071228105.zip.\n",
      "2024-04-26 09:52:42,672 - INFO - File exists: ..\\data\\HCC-TACE-Seg\\1.3.6.1.4.1.14519.5.2.1.1706.8374.231513034103627633230071228105.zip, skipped downloading.\n",
      "2024-04-26 09:52:42,673 - INFO - Writing into directory: ..\\data\\HCC-TACE-Seg\\HCC_077\\300\\image.\n",
      "2024-04-26 09:52:43,052 - INFO - Expected md5 is None, skip md5 check for file ..\\data\\HCC-TACE-Seg\\1.2.276.0.7230010.3.1.3.8323329.2159.1600929114.382937.zip.\n",
      "2024-04-26 09:52:43,052 - INFO - File exists: ..\\data\\HCC-TACE-Seg\\1.2.276.0.7230010.3.1.3.8323329.2159.1600929114.382937.zip, skipped downloading.\n",
      "2024-04-26 09:52:43,067 - INFO - Writing into directory: ..\\data\\HCC-TACE-Seg\\raw\\1.2.276.0.7230010.3.1.3.8323329.2159.1600929114.382937.\n",
      "2024-04-26 09:52:43,891 - INFO - Expected md5 is None, skip md5 check for file ..\\data\\HCC-TACE-Seg\\1.3.6.1.4.1.14519.5.2.1.1706.8374.328381013969207951913699003250.zip.\n",
      "2024-04-26 09:52:43,891 - INFO - File exists: ..\\data\\HCC-TACE-Seg\\1.3.6.1.4.1.14519.5.2.1.1706.8374.328381013969207951913699003250.zip, skipped downloading.\n",
      "2024-04-26 09:52:43,891 - INFO - Writing into directory: ..\\data\\HCC-TACE-Seg\\HCC_081\\300\\image.\n",
      "2024-04-26 09:52:44,327 - INFO - Expected md5 is None, skip md5 check for file ..\\data\\HCC-TACE-Seg\\1.2.276.0.7230010.3.1.3.8323329.2015.1600929060.445346.zip.\n",
      "2024-04-26 09:52:44,328 - INFO - File exists: ..\\data\\HCC-TACE-Seg\\1.2.276.0.7230010.3.1.3.8323329.2015.1600929060.445346.zip, skipped downloading.\n",
      "2024-04-26 09:52:44,329 - INFO - Writing into directory: ..\\data\\HCC-TACE-Seg\\raw\\1.2.276.0.7230010.3.1.3.8323329.2015.1600929060.445346.\n",
      "2024-04-26 09:52:45,058 - INFO - Expected md5 is None, skip md5 check for file ..\\data\\HCC-TACE-Seg\\1.3.6.1.4.1.14519.5.2.1.1706.8374.248128077663297154202444477856.zip.\n",
      "2024-04-26 09:52:45,058 - INFO - File exists: ..\\data\\HCC-TACE-Seg\\1.3.6.1.4.1.14519.5.2.1.1706.8374.248128077663297154202444477856.zip, skipped downloading.\n",
      "2024-04-26 09:52:45,058 - INFO - Writing into directory: ..\\data\\HCC-TACE-Seg\\HCC_073\\300\\image.\n",
      "2024-04-26 09:52:45,621 - INFO - Expected md5 is None, skip md5 check for file ..\\data\\HCC-TACE-Seg\\1.2.276.0.7230010.3.1.3.8323329.1619.1600928909.284416.zip.\n",
      "2024-04-26 09:52:45,622 - INFO - File exists: ..\\data\\HCC-TACE-Seg\\1.2.276.0.7230010.3.1.3.8323329.1619.1600928909.284416.zip, skipped downloading.\n",
      "2024-04-26 09:52:45,623 - INFO - Writing into directory: ..\\data\\HCC-TACE-Seg\\raw\\1.2.276.0.7230010.3.1.3.8323329.1619.1600928909.284416.\n",
      "2024-04-26 09:52:46,241 - INFO - Expected md5 is None, skip md5 check for file ..\\data\\HCC-TACE-Seg\\1.3.6.1.4.1.14519.5.2.1.1706.8374.168467877926914067122086638555.zip.\n",
      "2024-04-26 09:52:46,241 - INFO - File exists: ..\\data\\HCC-TACE-Seg\\1.3.6.1.4.1.14519.5.2.1.1706.8374.168467877926914067122086638555.zip, skipped downloading.\n",
      "2024-04-26 09:52:46,241 - INFO - Writing into directory: ..\\data\\HCC-TACE-Seg\\HCC_051\\300\\image.\n",
      "2024-04-26 09:52:49,149 - INFO - Expected md5 is None, skip md5 check for file ..\\data\\HCC-TACE-Seg\\1.2.276.0.7230010.3.1.3.8323329.41.1604860085.518229.zip.\n",
      "2024-04-26 09:52:49,149 - INFO - File exists: ..\\data\\HCC-TACE-Seg\\1.2.276.0.7230010.3.1.3.8323329.41.1604860085.518229.zip, skipped downloading.\n",
      "2024-04-26 09:52:49,149 - INFO - Writing into directory: ..\\data\\HCC-TACE-Seg\\raw\\1.2.276.0.7230010.3.1.3.8323329.41.1604860085.518229.\n",
      "2024-04-26 09:52:49,643 - INFO - Expected md5 is None, skip md5 check for file ..\\data\\HCC-TACE-Seg\\1.3.6.1.4.1.14519.5.2.1.1706.8374.172517341095680731665822868712.zip.\n",
      "2024-04-26 09:52:49,644 - INFO - File exists: ..\\data\\HCC-TACE-Seg\\1.3.6.1.4.1.14519.5.2.1.1706.8374.172517341095680731665822868712.zip, skipped downloading.\n",
      "2024-04-26 09:52:49,645 - INFO - Writing into directory: ..\\data\\HCC-TACE-Seg\\HCC_017\\300\\image.\n",
      "2024-04-26 09:52:49,949 - INFO - Expected md5 is None, skip md5 check for file ..\\data\\HCC-TACE-Seg\\1.2.276.0.7230010.3.1.3.8323329.2087.1600929091.391108.zip.\n",
      "2024-04-26 09:52:49,949 - INFO - File exists: ..\\data\\HCC-TACE-Seg\\1.2.276.0.7230010.3.1.3.8323329.2087.1600929091.391108.zip, skipped downloading.\n",
      "2024-04-26 09:52:49,949 - INFO - Writing into directory: ..\\data\\HCC-TACE-Seg\\raw\\1.2.276.0.7230010.3.1.3.8323329.2087.1600929091.391108.\n",
      "2024-04-26 09:52:50,681 - INFO - Expected md5 is None, skip md5 check for file ..\\data\\HCC-TACE-Seg\\1.3.6.1.4.1.14519.5.2.1.1706.8374.231513034103627633230071228105.zip.\n",
      "2024-04-26 09:52:50,682 - INFO - File exists: ..\\data\\HCC-TACE-Seg\\1.3.6.1.4.1.14519.5.2.1.1706.8374.231513034103627633230071228105.zip, skipped downloading.\n",
      "2024-04-26 09:52:50,684 - INFO - Writing into directory: ..\\data\\HCC-TACE-Seg\\HCC_077\\300\\image.\n",
      "2024-04-26 09:52:51,087 - INFO - Expected md5 is None, skip md5 check for file ..\\data\\HCC-TACE-Seg\\1.2.276.0.7230010.3.1.3.8323329.2159.1600929114.382937.zip.\n",
      "2024-04-26 09:52:51,087 - INFO - File exists: ..\\data\\HCC-TACE-Seg\\1.2.276.0.7230010.3.1.3.8323329.2159.1600929114.382937.zip, skipped downloading.\n",
      "2024-04-26 09:52:51,088 - INFO - Writing into directory: ..\\data\\HCC-TACE-Seg\\raw\\1.2.276.0.7230010.3.1.3.8323329.2159.1600929114.382937.\n",
      "2024-04-26 09:52:51,698 - INFO - Expected md5 is None, skip md5 check for file ..\\data\\HCC-TACE-Seg\\1.3.6.1.4.1.14519.5.2.1.1706.8374.328381013969207951913699003250.zip.\n",
      "2024-04-26 09:52:51,698 - INFO - File exists: ..\\data\\HCC-TACE-Seg\\1.3.6.1.4.1.14519.5.2.1.1706.8374.328381013969207951913699003250.zip, skipped downloading.\n",
      "2024-04-26 09:52:51,698 - INFO - Writing into directory: ..\\data\\HCC-TACE-Seg\\HCC_081\\300\\image.\n",
      "2024-04-26 09:52:52,087 - INFO - Expected md5 is None, skip md5 check for file ..\\data\\HCC-TACE-Seg\\1.2.276.0.7230010.3.1.3.8323329.2015.1600929060.445346.zip.\n",
      "2024-04-26 09:52:52,087 - INFO - File exists: ..\\data\\HCC-TACE-Seg\\1.2.276.0.7230010.3.1.3.8323329.2015.1600929060.445346.zip, skipped downloading.\n",
      "2024-04-26 09:52:52,097 - INFO - Writing into directory: ..\\data\\HCC-TACE-Seg\\raw\\1.2.276.0.7230010.3.1.3.8323329.2015.1600929060.445346.\n",
      "2024-04-26 09:52:52,754 - INFO - Expected md5 is None, skip md5 check for file ..\\data\\HCC-TACE-Seg\\1.3.6.1.4.1.14519.5.2.1.1706.8374.248128077663297154202444477856.zip.\n",
      "2024-04-26 09:52:52,754 - INFO - File exists: ..\\data\\HCC-TACE-Seg\\1.3.6.1.4.1.14519.5.2.1.1706.8374.248128077663297154202444477856.zip, skipped downloading.\n",
      "2024-04-26 09:52:52,754 - INFO - Writing into directory: ..\\data\\HCC-TACE-Seg\\HCC_073\\300\\image.\n",
      "2024-04-26 09:52:53,198 - INFO - Expected md5 is None, skip md5 check for file ..\\data\\HCC-TACE-Seg\\1.2.276.0.7230010.3.1.3.8323329.1619.1600928909.284416.zip.\n",
      "2024-04-26 09:52:53,198 - INFO - File exists: ..\\data\\HCC-TACE-Seg\\1.2.276.0.7230010.3.1.3.8323329.1619.1600928909.284416.zip, skipped downloading.\n",
      "2024-04-26 09:52:53,198 - INFO - Writing into directory: ..\\data\\HCC-TACE-Seg\\raw\\1.2.276.0.7230010.3.1.3.8323329.1619.1600928909.284416.\n",
      "2024-04-26 09:52:54,012 - INFO - Expected md5 is None, skip md5 check for file ..\\data\\HCC-TACE-Seg\\1.3.6.1.4.1.14519.5.2.1.1706.8374.168467877926914067122086638555.zip.\n",
      "2024-04-26 09:52:54,013 - INFO - File exists: ..\\data\\HCC-TACE-Seg\\1.3.6.1.4.1.14519.5.2.1.1706.8374.168467877926914067122086638555.zip, skipped downloading.\n",
      "2024-04-26 09:52:54,015 - INFO - Writing into directory: ..\\data\\HCC-TACE-Seg\\HCC_051\\300\\image.\n",
      "[0 1 3 4] [2]\n",
      "4 1\n",
      "4 1\n"
     ]
    }
   ],
   "source": [
    "# Get transforms\n",
    "transform = get_transforms(contrast_value=1000)\n",
    "\n",
    "# Get datasets\n",
    "train_ds, val_ds = get_datasets(\n",
    "    root_dir=\"../data\",\n",
    "    collection=\"HCC-TACE-Seg\",\n",
    "    transform=transform,\n",
    "    download_len=5,\n",
    "    val_frac=0.2,\n",
    ")\n",
    "\n",
    "# Get dataloaders\n",
    "train_loader, val_loader = get_dataloaders(train_ds, val_ds, batch_size=1)\n",
    "\n",
    "# Get datalists\n",
    "train_dl = train_ds.datalist\n",
    "val_dl = val_ds.datalist\n",
    "\n",
    "# Check length of datasets, dataloaders and datalists\n",
    "print(train_ds.get_indices(), val_ds.get_indices())\n",
    "print(len(train_loader), len(val_loader))\n",
    "print(len(train_dl), len(val_dl))"
   ]
  },
  {
   "cell_type": "code",
   "execution_count": 3,
   "metadata": {},
   "outputs": [
    {
     "name": "stdout",
     "output_type": "stream",
     "text": [
      "[{'image': '..\\\\data\\\\HCC-TACE-Seg\\\\HCC_017\\\\300\\\\image', 'seg': '..\\\\data\\\\HCC-TACE-Seg\\\\HCC_017\\\\300\\\\seg'}, {'image': '..\\\\data\\\\HCC-TACE-Seg\\\\HCC_051\\\\300\\\\image', 'seg': '..\\\\data\\\\HCC-TACE-Seg\\\\HCC_051\\\\300\\\\seg'}, {'image': '..\\\\data\\\\HCC-TACE-Seg\\\\HCC_077\\\\300\\\\image', 'seg': '..\\\\data\\\\HCC-TACE-Seg\\\\HCC_077\\\\300\\\\seg'}, {'image': '..\\\\data\\\\HCC-TACE-Seg\\\\HCC_081\\\\300\\\\image', 'seg': '..\\\\data\\\\HCC-TACE-Seg\\\\HCC_081\\\\300\\\\seg'}]\n"
     ]
    }
   ],
   "source": [
    "print(train_dl)"
   ]
  },
  {
   "cell_type": "code",
   "execution_count": 4,
   "metadata": {},
   "outputs": [],
   "source": [
    "# labels = [\"Liver\", \"Mass\", \"Portal vein\", \"Abdominal aorta\", \"Background\"]\n",
    "\n",
    "# structures = [\"Liver\", \"Mass\", \"Portal vein\", \"Abdominal aorta\", \"Background\"]\n",
    "# labels = subject.structures.query(f\"group in {structures}\")[\"id\"].tolist()\n",
    "\n",
    "# Read in CT volume and label map\n",
    "subject = read(train_dl[0][\"image\"], train_dl[0][\"seg\"], orientation=\"AP\", bone_attenuation_multiplier=5)"
   ]
  },
  {
   "cell_type": "code",
   "execution_count": 5,
   "metadata": {},
   "outputs": [],
   "source": [
    "# Create a DRR object\n",
    "drr = DRR(\n",
    "    subject,  # A torchio.Subject object storing the CT volume, origin, and voxel spacing\n",
    "    sdd=1020,  # Source-to-detector distance (i.e., the C-arm's focal length)\n",
    "    height=200,  # Height of the DRR (if width is not seperately provided, the generated image is square)\n",
    "    width=200,  # Width of the DRR\n",
    "    delx=2.0,  # Pixel spacing (in mm)\n",
    "    dely=2.0,  # Pixel spacing (in mm)\n",
    "    x0=0,  # # Principal point X-offset\n",
    "    y0=0,  # Principal point Y-offset\n",
    "    p_subsample = None,  # Proportion of pixels to randomly subsample\n",
    "    reshape = True,  # Return DRR with shape (b, 1, h, w)\n",
    "    reverse_x_axis = True,  # If True, obey radiologic convention (e.g., heart on right)\n",
    "    patch_size = None,  # Render patches of the DRR in series\n",
    "    renderer = \"siddon\",  # Rendering backend, either \"siddon\" or \"trilinear\"\n",
    ").to(device)"
   ]
  },
  {
   "cell_type": "code",
   "execution_count": 7,
   "metadata": {},
   "outputs": [
    {
     "data": {
      "image/png": "[encoded data removed]",
      "text/plain": [
       "<Figure size 1000x500 with 1 Axes>"
      ]
     },
     "metadata": {},
     "output_type": "display_data"
    }
   ],
   "source": [
    "# Set the camera pose with rotations (yaw, pitch, roll) and translations (x, y, z)\n",
    "rotations = torch.tensor([[0.0, 0.0, 0.0]], device=device)\n",
    "translations = torch.tensor([[0.0, 850.0, 0.0]], device=device)\n",
    "img = drr(rotations, translations, parameterization=\"euler_angles\", convention=\"ZXY\", mask_to_channels = False)\n",
    "plot_drr(img, ticks=False)\n",
    "plt.show()"
   ]
  },
  {
   "cell_type": "code",
   "execution_count": 8,
   "metadata": {},
   "outputs": [
    {
     "name": "stdout",
     "output_type": "stream",
     "text": [
      "[[[0. 0. 0. ... 0. 0. 0.]\n",
      "  [0. 0. 0. ... 0. 0. 0.]\n",
      "  [0. 0. 0. ... 0. 0. 0.]\n",
      "  ...\n",
      "  [0. 0. 0. ... 0. 0. 0.]\n",
      "  [0. 0. 0. ... 0. 0. 0.]\n",
      "  [0. 0. 0. ... 0. 0. 0.]]\n",
      "\n",
      " [[0. 0. 0. ... 0. 0. 0.]\n",
      "  [0. 0. 0. ... 0. 0. 0.]\n",
      "  [0. 0. 0. ... 0. 0. 0.]\n",
      "  ...\n",
      "  [0. 0. 0. ... 0. 0. 0.]\n",
      "  [0. 0. 0. ... 0. 0. 0.]\n",
      "  [0. 0. 0. ... 0. 0. 0.]]\n",
      "\n",
      " [[0. 0. 0. ... 0. 0. 0.]\n",
      "  [0. 0. 0. ... 0. 0. 0.]\n",
      "  [0. 0. 0. ... 0. 0. 0.]\n",
      "  ...\n",
      "  [0. 0. 0. ... 0. 0. 0.]\n",
      "  [0. 0. 0. ... 0. 0. 0.]\n",
      "  [0. 0. 0. ... 0. 0. 0.]]\n",
      "\n",
      " ...\n",
      "\n",
      " [[0. 0. 0. ... 0. 0. 0.]\n",
      "  [0. 0. 0. ... 0. 0. 0.]\n",
      "  [0. 0. 0. ... 0. 0. 0.]\n",
      "  ...\n",
      "  [0. 0. 0. ... 0. 0. 0.]\n",
      "  [0. 0. 0. ... 0. 0. 0.]\n",
      "  [0. 0. 0. ... 0. 0. 0.]]\n",
      "\n",
      " [[0. 0. 0. ... 0. 0. 0.]\n",
      "  [0. 0. 0. ... 0. 0. 0.]\n",
      "  [0. 0. 0. ... 0. 0. 0.]\n",
      "  ...\n",
      "  [0. 0. 0. ... 0. 0. 0.]\n",
      "  [0. 0. 0. ... 0. 0. 0.]\n",
      "  [0. 0. 0. ... 0. 0. 0.]]\n",
      "\n",
      " [[0. 0. 0. ... 0. 0. 0.]\n",
      "  [0. 0. 0. ... 0. 0. 0.]\n",
      "  [0. 0. 0. ... 0. 0. 0.]\n",
      "  ...\n",
      "  [0. 0. 0. ... 0. 0. 0.]\n",
      "  [0. 0. 0. ... 0. 0. 0.]\n",
      "  [0. 0. 0. ... 0. 0. 0.]]]\n",
      "90\n"
     ]
    }
   ],
   "source": [
    "import nibabel as nib\n",
    "import numpy as np\n",
    "\n",
    "# Load the image\n",
    "mask = nib.load(\"../DiffDRR/notebooks/api/data/mask.nii.gz\")\n",
    "\n",
    "# Get the image data as a numpy array\n",
    "mask_data = mask.get_fdata()\n",
    "\n",
    "# Print the numpy array\n",
    "print(mask_data)\n",
    "\n",
    "unique_values = np.unique(mask_data)\n",
    "print(len(unique_values))"
   ]
  },
  {
   "cell_type": "code",
   "execution_count": 9,
   "metadata": {},
   "outputs": [
    {
     "data": {
      "text/plain": [
       "torch.Size([1, 1, 200, 200])"
      ]
     },
     "execution_count": 9,
     "metadata": {},
     "output_type": "execute_result"
    }
   ],
   "source": [
    "img.shape"
   ]
  },
  {
   "cell_type": "code",
   "execution_count": null,
   "metadata": {},
   "outputs": [],
   "source": []
  }
 ],
 "metadata": {
  "kernelspec": {
   "display_name": "torch-gpu",
   "language": "python",
   "name": "python3"
  },
  "language_info": {
   "codemirror_mode": {
    "name": "ipython",
    "version": 3
   },
   "file_extension": ".py",
   "mimetype": "text/x-python",
   "name": "python",
   "nbconvert_exporter": "python",
   "pygments_lexer": "ipython3",
   "version": "3.11.8"
  }
 },
 "nbformat": 4,
 "nbformat_minor": 2
}

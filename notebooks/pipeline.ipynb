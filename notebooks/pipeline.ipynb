{
 "cells": [
  {
   "cell_type": "markdown",
   "metadata": {},
   "source": [
    "# TACE procedure methodology walkthrough\n",
    "---\n",
    "\n",
    "This notebook demonstrates the end-to-end workflow for training a model that can reconstruct vessel enhanced DRR images from raw DRR images making use of the 3D spatial information extracted from medical CT volumes of the corresponding patient."
   ]
  },
  {
   "cell_type": "markdown",
   "metadata": {},
   "source": [
    "## 1. Importing libraries\n",
    "This pipeline is mainly based on Pytorch and its medical imaging extension MONAI for data processing and model training and DiffDRR for DRR generation. Additionally, custom functionality is imported."
   ]
  },
  {
   "cell_type": "code",
   "execution_count": null,
   "metadata": {},
   "outputs": [],
   "source": [
    "# Import libraries\n",
    "import sys\n",
    "import random\n",
    "import numpy as np\n",
    "import torch\n",
    "import torchio as tio\n",
    "\n",
    "sys.path.append(\"..\")\n",
    "\n",
    "from src.preprocessing import get_transforms, get_datasets, get_dataloaders, add_vessel_contrast\n",
    "# from src.config import config\n",
    "from src.drr import create_drr\n",
    "from src.vizualization import plot_results, plot_drr_enhancement\n",
    "\n",
    "import torch\n",
    "import matplotlib.pyplot as plt\n",
    "from diffdrr.visualization import plot_drr, plot_mask\n",
    "\n",
    "import torch\n",
    "import matplotlib.pyplot as plt\n",
    "\n",
    "import matplotlib.pyplot as plt\n",
    "\n",
    "from diffdrr.drr import DRR\n",
    "from diffdrr.data import read, transform_hu_to_density\n",
    "\n",
    "from diffdrr.pose import convert\n",
    "from diffdrr.visualization import drr_to_mesh, img_to_mesh\n",
    "import pyvista\n",
    "\n",
    "from tqdm import tqdm\n",
    "\n",
    "from src.model import TACEnet\n",
    "from monai.losses import DiceCELoss\n",
    "\n",
    "from torchvision import transforms\n",
    "\n",
    "# Set the device\n",
    "device = torch.device(\"cuda:0\" if torch.cuda.is_available() else \"cpu\")\n",
    "print(device)"
   ]
  },
  {
   "cell_type": "markdown",
   "metadata": {},
   "source": [
    "## 2. Data preprocessing\n",
    "In this pipeline we make use of HCC-TACE-Seg dataset. This retrospectively acquired data collection includes pre- and post-procedure CT imaging studies of 105 confirmed HCC patients who underwent TACE between 2002 and 2012 with an available treatment outcome, in the form of time-to-progression and overall survival. Baseline imaging includes multiphasic contrast-enhanced CT with no image artifacts (e.g. surgical clip) and was obtained 1-12 weeks (average 3 weeks) prior to the first TACE session. Semiautomatic segmentation of liver, tumor, and blood vessels created using AMIRA was manually clinically curated. These segmentations of each pre-procedural CT study were done for the purpose of algorithm training for prediction and automatic liver tumor segmentation, and are provided here (NIfTI converted to DICOM-SEG format)."
   ]
  },
  {
   "cell_type": "markdown",
   "metadata": {},
   "source": [
    "The volumes and segmnetations have the following shapes when loaded from a batch:\n",
    "\n",
    "- volume: (1, 1, 512, 512, D) -> (B, C, H, W, D) where the depth (D) is variable\n",
    "- segmentation (1, 5, 512, 512, D) -> (B, C, H, W, D) where the depth (D) is variable and correpsonds to volume\n"
   ]
  },
  {
   "cell_type": "markdown",
   "metadata": {},
   "source": [
    "The following tranformations are then performed:\n",
    "1. Load volume and segmentation to MONAI meta tensor.\n",
    "2. Ensure the channel dimension is placed before the spatial dimensions\n",
    "3. Resize the volume and segmnetation to a new desired dimension, using padding and cropping (optional).\n",
    "4. Isolate the vessel channel of the multi class segmentation mask. This essentially turns the task in a binary segmentation problem where the segmentation will have a shape equal to the volume: (1, 1, 512, 512, D)."
   ]
  },
  {
   "cell_type": "code",
   "execution_count": null,
   "metadata": {},
   "outputs": [],
   "source": [
    "# Get transforms\n",
    "transform = get_transforms(resize_shape= [512, 512, 96], contrast_value=1000)\n",
    "\n",
    "# Get datasets\n",
    "train_ds, val_ds = get_datasets(\n",
    "    root_dir=\"../data081\",\n",
    "    collection=\"HCC-TACE-Seg\",\n",
    "    transform=transform,\n",
    "    download=False,\n",
    "    val_frac=0.0,\n",
    "    download_len=1,\n",
    "    seed=42\n",
    ")\n",
    "\n",
    "# Get dataloaders\n",
    "train_loader, val_loader = get_dataloaders(train_ds, val_ds, batch_size=1)\n",
    "\n",
    "# Check length of datasets to make sure data split is correct\n",
    "print(train_ds.get_indices(), val_ds.get_indices())"
   ]
  },
  {
   "cell_type": "code",
   "execution_count": null,
   "metadata": {},
   "outputs": [],
   "source": [
    "# Sample a batch of data from the dataloader\n",
    "batch = next(iter(train_loader))\n",
    "\n",
    "# Separate the image and segmentation from the batch\n",
    "volumes, targets = batch[\"image\"], batch[\"seg\"]\n",
    "\n",
    "print(volumes.shape, targets.shape)"
   ]
  },
  {
   "cell_type": "markdown",
   "metadata": {},
   "source": [
    "From these volumes and segmentation we can take a slice and visualize the slice to evaulate the inputs"
   ]
  },
  {
   "cell_type": "code",
   "execution_count": null,
   "metadata": {},
   "outputs": [],
   "source": [
    "slice_idx = 30\n",
    "\n",
    "# Sample a slice from the image\n",
    "CT_slice = volumes[0, 0, :, :, slice_idx].cpu()\n",
    "\n",
    "# Get the maximum segmentation class for each pixel in the slice\n",
    "CT_seg_slice = targets[0, 0, :, :, slice_idx].cpu()\n",
    "\n",
    "# Plot the image and segmentation slice as a subplot\n",
    "fig, ax = plt.subplots(1, 2, figsize=(10, 5))\n",
    "ax[0].imshow(CT_slice, cmap=\"gray\")\n",
    "ax[0].set_title(\"CT Image\")\n",
    "ax[0].axis(\"off\")\n",
    "ax[1].imshow(CT_seg_slice, cmap=\"tab20\")\n",
    "ax[1].set_title(\"CT Segmentation\")\n",
    "ax[1].axis(\"off\")\n",
    "plt.show()"
   ]
  },
  {
   "cell_type": "markdown",
   "metadata": {},
   "source": [
    "## 3. Creating DRR images\n",
    "DRR images are essentially simulated X-ray images reconsturcted by raytracing through a given 3D CT volume. The DiffDRR package comes with most of the functionality needed out-of-the-box. We will demonstrate below how to create DRR images and control output rotation, zoom and more. Currently, this does not works vectorized over a batch. "
   ]
  },
  {
   "cell_type": "code",
   "execution_count": null,
   "metadata": {},
   "outputs": [],
   "source": [
    "# Extract first image and segmentation from the batch\n",
    "img = volumes[0]\n",
    "seg = targets[0]\n",
    "\n",
    "# Read in CT volume and label map into a subject object\n",
    "subject = read(\n",
    "    tensor=img,\n",
    "    label_tensor=seg,\n",
    "    orientation=\"AP\",\n",
    "    bone_attenuation_multiplier=5,\n",
    ")\n",
    "\n",
    "# Create a DRR object, this will project the CT to the DRR\n",
    "drr = DRR(\n",
    "    subject,  # A torchio.Subject object storing the CT volume, origin, and voxel spacing\n",
    "    sdd=1020,  # Source-to-detector distance (i.e., the C-arm's focal length)\n",
    "    height=200,  # Height of the DRR (if width is not seperately provided, the generated image is square)\n",
    "    width=200,  # Width of the DRR\n",
    "    delx=2.0,  # Pixel spacing (in mm)\n",
    "    dely=2.0,  # Pixel spacing (in mm)\n",
    "    x0=0,  # # Principal point X-offset\n",
    "    y0=0,  # Principal point Y-offset\n",
    "    p_subsample=None,  # Proportion of pixels to randomly subsample\n",
    "    reshape=True,  # Return DRR with shape (b, 1, h, w)\n",
    "    reverse_x_axis=True,  # If True, obey radiologic convention (e.g., heart on right)\n",
    "    patch_size=None,  # Render patches of the DRR in series\n",
    "    renderer=\"siddon\",  # Rendering backend, either \"siddon\" or \"trilinear\"\n",
    ").to(device)\n",
    "\n",
    "# Set the camera pose with rotations (yaw, pitch, roll) and translations (x, y, z)\n",
    "zero = torch.tensor([[0.0, 0.0, 0.0]], device=device)\n",
    "translations = torch.tensor([[0.0, 800.0, 0.0]], device=device)\n",
    "\n",
    "# Define the camera pose with rotations and translations in degrees, later converted to radians\n",
    "rotations = torch.tensor([[0.0, 0.0, 0.0]], device=device)\n",
    "rotations = torch.deg2rad(rotations)\n",
    "\n",
    "# Convert the rotations and translations to a pose matrix\n",
    "pose1 = convert(zero, translations, parameterization=\"euler_angles\", convention=\"ZXY\")\n",
    "pose2 = convert(rotations, zero, parameterization=\"euler_angles\", convention=\"ZXY\")\n",
    "pose = pose1.compose(pose2)\n",
    "\n",
    "# Generate the DRR\n",
    "drr_image_raw = drr(pose, mask_to_channels=True)"
   ]
  },
  {
   "cell_type": "markdown",
   "metadata": {},
   "source": [
    "For our task we would need to also simulate DRR images with an enhanced vessel network corresponding to the same CT volume. Since DRR images are directly created from a CT volume the enhancement needs to be applied to the CT itself first"
   ]
  },
  {
   "cell_type": "code",
   "execution_count": null,
   "metadata": {},
   "outputs": [],
   "source": [
    "# Enhance the vessel contrast in the CT using the segmentation\n",
    "img_enhanced = add_vessel_contrast(img, seg, contrast_value=2000)\n",
    "\n",
    "# Read in CT volume and label map into a subject object\n",
    "subject_enhanced = read(\n",
    "    tensor=img_enhanced,\n",
    "    label_tensor=seg,\n",
    "    orientation=\"AP\",\n",
    "    bone_attenuation_multiplier=5,\n",
    ")\n",
    "\n",
    "# Create a DRR object, this will project the CT to the DRR\n",
    "drr_enhanced = DRR(\n",
    "    subject_enhanced,  # A torchio.Subject object storing the CT volume, origin, and voxel spacing\n",
    "    sdd=1020,  # Source-to-detector distance (i.e., the C-arm's focal length)\n",
    "    height=200,  # Height of the DRR (if width is not seperately provided, the generated image is square)\n",
    "    width=200,  # Width of the DRR\n",
    "    delx=2.0,  # Pixel spacing (in mm)\n",
    "    dely=2.0,  # Pixel spacing (in mm)\n",
    "    x0=0,  # # Principal point X-offset\n",
    "    y0=0,  # Principal point Y-offset\n",
    "    p_subsample=None,  # Proportion of pixels to randomly subsample\n",
    "    reshape=True,  # Return DRR with shape (b, 1, h, w)\n",
    "    reverse_x_axis=True,  # If True, obey radiologic convention (e.g., heart on right)\n",
    "    patch_size=None,  # Render patches of the DRR in series\n",
    "    renderer=\"siddon\",  # Rendering backend, either \"siddon\" or \"trilinear\"\n",
    ").to(device)\n",
    "\n",
    "# Set the camera pose with rotations (yaw, pitch, roll) and translations (x, y, z)\n",
    "zero = torch.tensor([[0.0, 0.0, 0.0]], device=device)\n",
    "translations = torch.tensor([[0.0, 800.0, 0.0]], device=device)\n",
    "\n",
    "# Define the camera pose with rotations and translations in degrees, later converted to radians\n",
    "rotations = torch.tensor([[0.0, 0.0, 0.0]], device=device)\n",
    "rotations = torch.deg2rad(rotations)\n",
    "\n",
    "# Convert the rotations and translations to a pose matrix\n",
    "pose1 = convert(zero, translations, parameterization=\"euler_angles\", convention=\"ZXY\")\n",
    "pose2 = convert(rotations, zero, parameterization=\"euler_angles\", convention=\"ZXY\")\n",
    "pose = pose1.compose(pose2)\n",
    "\n",
    "# Generate the DRR\n",
    "drr_image_enhanced = drr_enhanced(pose, mask_to_channels=True)"
   ]
  },
  {
   "cell_type": "markdown",
   "metadata": {},
   "source": [
    "The implementation of the DRR generation allows us to visualize both the entire image and only certain structures of interest, in this case the vessels. We can now visualize the raw DRR, the vessels only and the enhanced DRR. Note that the output of the DRR has the following shape:\n",
    "\n",
    "$$(B, C, H, W) -> (1, 2, 200, 200)$$\n",
    "\n",
    "Where the B does not correspond to the dataloaders batch, but the number of different poses that are provided. This means that, although DRR image generation currently only works with 1 volume segmentation pair at once, per volume multiple DRR orientations can be created in parallel. Since we are interested in changing the angle this makes it perfectly sufficient to only uses batches of size 1 and create multiple DRR images for training per batch iteration.\n",
    "\n",
    "C is the number of channels per generated DRR (this by setting `mask_to_channel = True`) and allows for conditional rendering of different structures. Summing over the channel dimension will give the expected image. Note that the `plot_drr` function takes in a shape of (B, C, H, W), which explains the added logic below."
   ]
  },
  {
   "cell_type": "code",
   "execution_count": null,
   "metadata": {},
   "outputs": [],
   "source": [
    "# Plot the segmentation masks\n",
    "fig, axs = plt.subplots(\n",
    "    nrows=1,\n",
    "    ncols=3,\n",
    "    figsize=(14, 7.75),\n",
    "    tight_layout=True,\n",
    "    dpi=300,\n",
    ")\n",
    "\n",
    "# Plot the DRR, DRR with vessel contrast, and the enhanced DRR\n",
    "plot_drr(drr_image_raw.sum(dim=1, keepdim=True), axs=axs[0], ticks=False, title=\"DRR\")\n",
    "plot_drr(\n",
    "    drr_image_enhanced[:, 1, :, :].unsqueeze(dim=1),\n",
    "    axs=axs[1],\n",
    "    ticks=False,\n",
    "    title=\"DRR Vessel Only\",\n",
    ")\n",
    "plot_drr(\n",
    "    drr_image_enhanced.sum(dim=1, keepdim=True),\n",
    "    axs=axs[2],\n",
    "    ticks=False,\n",
    "    title=\"Vessel Overlay\",\n",
    ")"
   ]
  },
  {
   "cell_type": "markdown",
   "metadata": {},
   "source": [
    "## 4. Model definition\n",
    "The model used for this task, consists of 2 parts:\n",
    "1. 3D CT volume embedding module: This part takes in a CT volume and embeds it to a 2D plane essentially compressing all 3D information in a 2D projection.\n",
    "2. The second part uses this CT embedding in combination with a rawm unenhanced X-ray (DRR) image to reconstruct a vessel enhanced DRR image that can be usefull for a surgeon during image guided TACE procedures.\n",
    "\n",
    "**IMAGE OF FINAL MODEL STRUCTURE**"
   ]
  },
  {
   "cell_type": "code",
   "execution_count": null,
   "metadata": {},
   "outputs": [],
   "source": [
    "# Define model\n",
    "model = TACEnet()\n",
    "\n",
    "# Move model to device\n",
    "model.to(device)\n",
    "\n",
    "# Initialize the criterion, DICE loss with cross entropy uses binary cross entropy when there are only two classes\n",
    "criterion = torch.nn.MSELoss()\n",
    "\n",
    "# Initialize the optimizer, use config to set hyperparameters\n",
    "optimizer = torch.optim.AdamW(\n",
    "    model.parameters(),\n",
    "    lr=1e-3,\n",
    "    weight_decay=1e-5,\n",
    ")\n",
    "\n",
    "model.load_state_dict(torch.load(\"../models/TACEnet_vessel_enhancement_29052024.pth\"))"
   ]
  },
  {
   "cell_type": "markdown",
   "metadata": {},
   "source": [
    "## 5. Model Training\n",
    "The training of the model is not as straight forward as compared to simple feedforward networks for classification. We need to execute the following steps for each image in a given batch:\n",
    "\n",
    "1. Use the raw 3D CT volume to create the unenhanced DRR image.\n",
    "2. Add vessel enhancement to the CT volume making use of the corresponding vessel segmentation map.\n",
    "3. Use the enhanced 3D CT volume to create the vessel enhanced DRR image.\n",
    "4. Embed the CT volume in latent space using the models encoder part\n",
    "\n",
    "Then in terms of bayesian notation the problem boils down to the following where the exact model architecture is arbitrary:\n",
    "\n",
    "$$p(DRR_e | DRR_r, CT_{embed})$$\n",
    "\n",
    "with for clarity:\n",
    "- $DRR_e$ = The vessel enhanced DRR image\n",
    "- $DRR_r$ = The raw DRR image\n",
    "- $CT_{embed}$ = The CT latent embedding\n",
    "\n",
    "This expression can be read as \"the probability of $DRR_e$  given $DRR_r$ and $CT_{embed}$.\n",
    "\n",
    "We are trying to model the probability distribution of a vessel enhanced DRR image given a raw DRR image and a CT latent embedding. This is a bayesian interference task, where we are trying to infer the vessel enhanced DRR image from the raw DRR image and the CT latent embedding 3D spatial data."
   ]
  },
  {
   "cell_type": "markdown",
   "metadata": {},
   "source": [
    "At a high level, the task can be explained as a conditional image impainting or object recovery task. You might be familiar with text-based image impainting, where a model is prompted with text to change an image accordingly. This works by embedding the text prompt in latent space, to stir the image impainting/generation. In this case, the text prompt is replaced with a CT latent embedding, which guides the transformation of the image or helps in recovering the vessel object.\n"
   ]
  },
  {
   "cell_type": "code",
   "execution_count": null,
   "metadata": {},
   "outputs": [],
   "source": [
    "drr_test = create_drr(\n",
    "    subject,\n",
    "    sdd=1020,\n",
    "    height=256,\n",
    "    width=256,\n",
    "    rotations=torch.tensor([[0.0, 0.0, 0.0]]),\n",
    "    translations=torch.tensor([[0.0, 850.0, 0.0]]),\n",
    "    mask_to_channels=True,\n",
    "    device=\"cpu\",\n",
    ")\n",
    "\n",
    "drr_test_body = drr_test[:, 0]\n",
    "drr_test_vessels = drr_test[:, 1]\n",
    "\n",
    "enhancement_factors = [1, 0.5, 0.25, 0.0]\n",
    "plot_drr_enhancement(drr_test_body, drr_test_vessels, enhancement_factors)"
   ]
  },
  {
   "cell_type": "code",
   "execution_count": null,
   "metadata": {},
   "outputs": [],
   "source": [
    "num_epochs = 10000\n",
    "\n",
    "\n",
    "# Training loop\n",
    "for epoch in range(num_epochs):\n",
    "    for i in range(len(volumes)): \n",
    "        rotation = 0.0\n",
    "\n",
    "        # Read the image and segmentation subject\n",
    "        subject = read(\n",
    "            tensor=volumes[i],\n",
    "            label_tensor=targets[i],\n",
    "            orientation=\"AP\",\n",
    "            bone_attenuation_multiplier=5.0,\n",
    "        )\n",
    "\n",
    "        # Create a RandomElasticDeformation transform\n",
    "        deform = tio.RandomElasticDeformation(p=1.0, num_control_points=7, max_displacement=50)\n",
    "\n",
    "        # Apply the transform to the subject\n",
    "        deformed_subject = deform(subject)\n",
    "\n",
    "        deformed_subject.density = transform_hu_to_density(\n",
    "            deformed_subject.volume.data, 5.0\n",
    "        )\n",
    "        \n",
    "        # Create raw DRR\n",
    "        drr_raw = create_drr(\n",
    "            deformed_subject,\n",
    "            sdd=1020,\n",
    "            height=256,\n",
    "            width=256,\n",
    "            rotations=torch.tensor([[rotation, 0.0, 0.0]]),\n",
    "            translations=torch.tensor([[0.0, 850.0, 0.0]]),\n",
    "            mask_to_channels=True,\n",
    "            device=\"cpu\",\n",
    "        )\n",
    "\n",
    "        # Extract DRR body and vessels\n",
    "        drr_body = drr_raw[:, 0]\n",
    "        drr_vessels = drr_raw[:, 1]\n",
    "\n",
    "        # Combine DRR body and vessels with enhancement factors\n",
    "        ef = 0.6\n",
    "        drr_combined_low_enhancement = (drr_body + ef * drr_vessels).unsqueeze(0)\n",
    "    \n",
    "        # Move tensors to the appropriate device\n",
    "        drr_combined_low_enhancement = drr_combined_low_enhancement.to(device)\n",
    "        drr_combined_target = drr_vessels.to(device)\n",
    "\n",
    "        # Forward pass\n",
    "        prediction = model(targets.to(device), drr_combined_low_enhancement)\n",
    "\n",
    "        # Compute loss\n",
    "        loss = criterion(prediction, drr_combined_target)\n",
    "\n",
    "        print(\n",
    "            f\"Epoch [{epoch+1}/{num_epochs}], Step [{i+1}/{len(volumes)}], Loss: {loss.item()}\"\n",
    "        )\n",
    "\n",
    "        # Plot the images (optional)\n",
    "        plot_results(\n",
    "            drr_combined_low_enhancement, drr_combined_target, prediction, vmax=25\n",
    "        )\n",
    "\n",
    "        # Backward pass and optimization\n",
    "        optimizer.zero_grad()\n",
    "        loss.backward()\n",
    "        optimizer.step()"
   ]
  },
  {
   "cell_type": "code",
   "execution_count": null,
   "metadata": {},
   "outputs": [],
   "source": [
    "torch.save(model.state_dict(), \"../models/TACEnet_vessel_enhancement_deformations_30052024.pth\")"
   ]
  },
  {
   "cell_type": "markdown",
   "metadata": {},
   "source": [
    "# Inference speed\n"
   ]
  },
  {
   "cell_type": "code",
   "execution_count": 12,
   "metadata": {},
   "outputs": [
    {
     "data": {
      "image/png": "[encoded data removed]",
      "text/plain": [
       "<Figure size 1200x400 with 4 Axes>"
      ]
     },
     "metadata": {},
     "output_type": "display_data"
    }
   ],
   "source": [
    "# Sample a batch of data from the dataloader\n",
    "batch = next(iter(train_loader))\n",
    "\n",
    "# Separate the image and segmentation from the batch\n",
    "volumes, targets = batch[\"image\"], batch[\"seg\"]\n",
    "\n",
    "subject = read(\n",
    "            tensor=volumes[0],\n",
    "            label_tensor=targets[0],\n",
    "            orientation=\"AP\",\n",
    "            bone_attenuation_multiplier=5.0,\n",
    "        )\n",
    "\n",
    "drr_test = create_drr(\n",
    "    subject,\n",
    "    sdd=1020,\n",
    "    height=256,\n",
    "    width=256,\n",
    "    rotations=torch.tensor([[0.0, 0.0, 0.0]]),\n",
    "    translations=torch.tensor([[0.0, 850.0, 0.0]]),\n",
    "    mask_to_channels=True,\n",
    "    device=\"cpu\",\n",
    ")\n",
    "\n",
    "drr_test_body = drr_test[:, 0]\n",
    "drr_test_vessels = drr_test[:, 1]\n",
    "\n",
    "enhancement_factors = [1, 0.5, 0.25, 0.0]\n",
    "plot_drr_enhancement(drr_test_body, drr_test_vessels, enhancement_factors, vmax=40)"
   ]
  }
 ],
 "metadata": {
  "kernelspec": {
   "display_name": "torch-gpu",
   "language": "python",
   "name": "python3"
  },
  "language_info": {
   "codemirror_mode": {
    "name": "ipython",
    "version": 3
   },
   "file_extension": ".py",
   "mimetype": "text/x-python",
   "name": "python",
   "nbconvert_exporter": "python",
   "pygments_lexer": "ipython3",
   "version": "3.12.2"
  }
 },
 "nbformat": 4,
 "nbformat_minor": 2
}

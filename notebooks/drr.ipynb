{
 "cells": [
  {
   "cell_type": "markdown",
   "metadata": {},
   "source": [
    "# Experimentation: Digitally Reconstructed Radiography (DRR)\n",
    "---"
   ]
  },
  {
   "cell_type": "markdown",
   "metadata": {
    "collapsed": false
   },
   "source": [
    "[Gopalakrishnan and Golland, 2022](https://doi.org/10.1007/978-3-031-23179-7_1) presented a method for solving inverse problems in intraoperative imaging using fast auto-differentiable digitally reconstructed radiographs. In this notebook, we apply the method described in their work to solve a similar problem in our analysis.\n",
    "\n",
    "`DiffDRR` is implemented as a custom PyTorch module."
   ]
  },
  {
   "cell_type": "code",
   "execution_count": 1,
   "metadata": {
    "ExecuteTime": {
     "end_time": "2024-03-21T12:57:16.523533Z",
     "start_time": "2024-03-21T12:56:52.723652Z"
    },
    "collapsed": false
   },
   "outputs": [
    {
     "name": "stdout",
     "output_type": "stream",
     "text": [
      "MONAI version: 1.3.0\n",
      "Numpy version: 1.26.4\n",
      "Pytorch version: 2.2.1\n",
      "MONAI flags: HAS_EXT = False, USE_COMPILED = False, USE_META_DICT = False\n",
      "MONAI rev id: 865972f7a791bf7b42efbcd87c8402bd865b329e\n",
      "MONAI __file__: c:\\Users\\<username>\\AppData\\Local\\anaconda3\\envs\\torch-gpu\\Lib\\site-packages\\monai\\__init__.py\n",
      "\n",
      "Optional dependencies:\n",
      "Pytorch Ignite version: NOT INSTALLED or UNKNOWN VERSION.\n",
      "ITK version: 5.3.0\n",
      "Nibabel version: 5.2.1\n",
      "scikit-image version: NOT INSTALLED or UNKNOWN VERSION.\n",
      "scipy version: 1.12.0\n",
      "Pillow version: 10.2.0\n",
      "Tensorboard version: 2.16.2\n",
      "gdown version: NOT INSTALLED or UNKNOWN VERSION.\n",
      "TorchVision version: 0.17.1\n",
      "tqdm version: 4.66.2\n",
      "lmdb version: NOT INSTALLED or UNKNOWN VERSION.\n",
      "psutil version: 5.9.8\n",
      "pandas version: 2.2.1\n",
      "einops version: 0.7.0\n",
      "transformers version: NOT INSTALLED or UNKNOWN VERSION.\n",
      "mlflow version: NOT INSTALLED or UNKNOWN VERSION.\n",
      "pynrrd version: NOT INSTALLED or UNKNOWN VERSION.\n",
      "clearml version: NOT INSTALLED or UNKNOWN VERSION.\n",
      "\n",
      "For details about installing the optional dependencies, please visit:\n",
      "    https://docs.monai.io/en/latest/installation.html#installing-the-recommended-dependencies\n",
      "\n"
     ]
    }
   ],
   "source": [
    "# Import libraries\n",
    "from monai.data import DataLoader\n",
    "from monai.transforms import (EnsureChannelFirstd,\n",
    "Compose, LoadImaged, MapTransform)\n",
    "\n",
    "from monai.apps import TciaDataset\n",
    "\n",
    "from monai.config import print_config\n",
    "import torch\n",
    "import matplotlib.pyplot as plt \n",
    "\n",
    "from diffdrr.drr import DRR\n",
    "from diffdrr.visualization import plot_drr\n",
    "\n",
    "print_config()\n",
    "\n",
    "# Get available device\n",
    "device = torch.device(\"cuda:0\" if torch.cuda.is_available() else \"cpu\")"
   ]
  },
  {
   "cell_type": "markdown",
   "metadata": {},
   "source": [
    "## Application for Abdominal CT Scans"
   ]
  },
  {
   "cell_type": "code",
   "execution_count": 2,
   "metadata": {},
   "outputs": [
    {
     "name": "stdout",
     "output_type": "stream",
     "text": [
      "2024-03-21 19:42:36,213 - INFO - Expected md5 is None, skip md5 check for file ..\\data\\HCC-TACE-Seg\\1.2.276.0.7230010.3.1.3.8323329.41.1604860085.518229.zip.\n",
      "2024-03-21 19:42:36,213 - INFO - File exists: ..\\data\\HCC-TACE-Seg\\1.2.276.0.7230010.3.1.3.8323329.41.1604860085.518229.zip, skipped downloading.\n",
      "2024-03-21 19:42:36,213 - INFO - Writing into directory: ..\\data\\HCC-TACE-Seg\\raw\\1.2.276.0.7230010.3.1.3.8323329.41.1604860085.518229.\n",
      "2024-03-21 19:42:36,684 - INFO - Expected md5 is None, skip md5 check for file ..\\data\\HCC-TACE-Seg\\1.3.6.1.4.1.14519.5.2.1.1706.8374.172517341095680731665822868712.zip.\n",
      "2024-03-21 19:42:36,684 - INFO - File exists: ..\\data\\HCC-TACE-Seg\\1.3.6.1.4.1.14519.5.2.1.1706.8374.172517341095680731665822868712.zip, skipped downloading.\n",
      "2024-03-21 19:42:36,684 - INFO - Writing into directory: ..\\data\\HCC-TACE-Seg\\HCC_017\\300\\image.\n",
      "2024-03-21 19:42:36,964 - INFO - Expected md5 is None, skip md5 check for file ..\\data\\HCC-TACE-Seg\\1.2.276.0.7230010.3.1.3.8323329.2087.1600929091.391108.zip.\n",
      "2024-03-21 19:42:36,964 - INFO - File exists: ..\\data\\HCC-TACE-Seg\\1.2.276.0.7230010.3.1.3.8323329.2087.1600929091.391108.zip, skipped downloading.\n",
      "2024-03-21 19:42:36,964 - INFO - Writing into directory: ..\\data\\HCC-TACE-Seg\\raw\\1.2.276.0.7230010.3.1.3.8323329.2087.1600929091.391108.\n",
      "2024-03-21 19:42:37,665 - INFO - Expected md5 is None, skip md5 check for file ..\\data\\HCC-TACE-Seg\\1.3.6.1.4.1.14519.5.2.1.1706.8374.231513034103627633230071228105.zip.\n",
      "2024-03-21 19:42:37,665 - INFO - File exists: ..\\data\\HCC-TACE-Seg\\1.3.6.1.4.1.14519.5.2.1.1706.8374.231513034103627633230071228105.zip, skipped downloading.\n",
      "2024-03-21 19:42:37,665 - INFO - Writing into directory: ..\\data\\HCC-TACE-Seg\\HCC_077\\300\\image.\n",
      "2024-03-21 19:42:40,414 - INFO - Expected md5 is None, skip md5 check for file ..\\data\\HCC-TACE-Seg\\1.2.276.0.7230010.3.1.3.8323329.41.1604860085.518229.zip.\n",
      "2024-03-21 19:42:40,414 - INFO - File exists: ..\\data\\HCC-TACE-Seg\\1.2.276.0.7230010.3.1.3.8323329.41.1604860085.518229.zip, skipped downloading.\n",
      "2024-03-21 19:42:40,423 - INFO - Writing into directory: ..\\data\\HCC-TACE-Seg\\raw\\1.2.276.0.7230010.3.1.3.8323329.41.1604860085.518229.\n",
      "2024-03-21 19:42:40,878 - INFO - Expected md5 is None, skip md5 check for file ..\\data\\HCC-TACE-Seg\\1.3.6.1.4.1.14519.5.2.1.1706.8374.172517341095680731665822868712.zip.\n",
      "2024-03-21 19:42:40,878 - INFO - File exists: ..\\data\\HCC-TACE-Seg\\1.3.6.1.4.1.14519.5.2.1.1706.8374.172517341095680731665822868712.zip, skipped downloading.\n",
      "2024-03-21 19:42:40,878 - INFO - Writing into directory: ..\\data\\HCC-TACE-Seg\\HCC_017\\300\\image.\n",
      "2024-03-21 19:42:41,164 - INFO - Expected md5 is None, skip md5 check for file ..\\data\\HCC-TACE-Seg\\1.2.276.0.7230010.3.1.3.8323329.2087.1600929091.391108.zip.\n",
      "2024-03-21 19:42:41,164 - INFO - File exists: ..\\data\\HCC-TACE-Seg\\1.2.276.0.7230010.3.1.3.8323329.2087.1600929091.391108.zip, skipped downloading.\n",
      "2024-03-21 19:42:41,164 - INFO - Writing into directory: ..\\data\\HCC-TACE-Seg\\raw\\1.2.276.0.7230010.3.1.3.8323329.2087.1600929091.391108.\n",
      "2024-03-21 19:42:41,679 - INFO - Expected md5 is None, skip md5 check for file ..\\data\\HCC-TACE-Seg\\1.3.6.1.4.1.14519.5.2.1.1706.8374.231513034103627633230071228105.zip.\n",
      "2024-03-21 19:42:41,695 - INFO - File exists: ..\\data\\HCC-TACE-Seg\\1.3.6.1.4.1.14519.5.2.1.1706.8374.231513034103627633230071228105.zip, skipped downloading.\n",
      "2024-03-21 19:42:41,695 - INFO - Writing into directory: ..\\data\\HCC-TACE-Seg\\HCC_077\\300\\image.\n"
     ]
    }
   ],
   "source": [
    "# Specify the collection and segmentation type\n",
    "collection, seg_type = \"HCC-TACE-Seg\", \"SEG\"\n",
    "\n",
    "# Create a dictionary to map the labels in the segmentation to the labels in the image\n",
    "label_dict = {'Liver': 0,\n",
    "  'Mass': 1,\n",
    "  'Necrosis': 2,\n",
    "  'Portal vein': 3,\n",
    "  'Abdominal aorta': 4}\n",
    "\n",
    "class UndoOneHotEncoding(MapTransform):\n",
    "    def __init__(self, keys):\n",
    "        super().__init__(keys)\n",
    "\n",
    "    def __call__(self, data):\n",
    "        for key in self.keys:\n",
    "            data[key] = data[key].argmax(dim=0).unsqueeze(0)\n",
    "        return data\n",
    "    \n",
    "# Create a composed transform that loads the image and segmentation, resamples the image to match the segmentation,\n",
    "# and undoes the one-hot encoding of the segmentation\n",
    "transform = Compose(\n",
    "    [\n",
    "        LoadImaged(reader=\"PydicomReader\", keys=[\"image\", \"seg\"], label_dict=label_dict),\n",
    "        EnsureChannelFirstd(keys=[\"image\", \"seg\"]),\n",
    "        #ResampleToMatchd(keys=\"image\", key_dst=\"seg\"),\n",
    "        #UndoOneHotEncoding(keys=\"seg\"),\n",
    "    ]\n",
    ")\n",
    "\n",
    "# Create a dataset for the training with a validation split\n",
    "train_dataset = TciaDataset(\n",
    "    root_dir=\"../data\",\n",
    "    collection=collection,\n",
    "    section=\"training\",\n",
    "    transform=transform,\n",
    "    download=True,\n",
    "    download_len=2,\n",
    "    seg_type=seg_type,\n",
    "    progress=True,\n",
    "    cache_rate=0.0,\n",
    "    val_frac=0.0,\n",
    "    seed=0,\n",
    ")\n",
    "\n",
    "# Create a dataset for the training with a validation split\n",
    "test_dataset = TciaDataset(\n",
    "    root_dir=\"../data\",\n",
    "    collection=collection,\n",
    "    section=\"test\",\n",
    "    transform=transform,\n",
    "    download=True,\n",
    "    download_len=2,\n",
    "    seg_type=seg_type,\n",
    "    progress=True,\n",
    "    cache_rate=0.0,\n",
    "    val_frac=0.0,\n",
    "    seed=100,\n",
    ")"
   ]
  },
  {
   "cell_type": "code",
   "execution_count": 3,
   "metadata": {},
   "outputs": [],
   "source": [
    "# Create a dataloader\n",
    "train_loader = DataLoader(train_dataset, batch_size=1, num_workers=0)"
   ]
  },
  {
   "cell_type": "code",
   "execution_count": 4,
   "metadata": {},
   "outputs": [],
   "source": [
    "# Sample a batch of data from the dataloader\n",
    "batch = next(iter(train_loader))"
   ]
  },
  {
   "cell_type": "code",
   "execution_count": 5,
   "metadata": {},
   "outputs": [
    {
     "name": "stdout",
     "output_type": "stream",
     "text": [
      "torch.Size([1, 1, 512, 512, 87]) torch.Size([1, 5, 512, 512, 87])\n",
      "torch.float32 torch.float32\n",
      "<class 'monai.data.meta_tensor.MetaTensor'> <class 'monai.data.meta_tensor.MetaTensor'>\n",
      "{'filename_or_obj': ['..\\\\data\\\\HCC-TACE-Seg\\\\HCC_077\\\\300\\\\image'], '00200032': {'vr': ['DS'], 'Value': [tensor([-150.], dtype=torch.float64), tensor([-150.], dtype=torch.float64), tensor([-229.5000], dtype=torch.float64)]}, 'lastImagePositionPatient': tensor([[-150.0000, -150.0000, -444.5000]], dtype=torch.float64), '00280030': {'vr': ['DS'], 'Value': [tensor([0.5859], dtype=torch.float64), tensor([0.5859], dtype=torch.float64), tensor([2.5000], dtype=torch.float64)]}, '00200037': {'vr': ['DS'], 'Value': [tensor([1.], dtype=torch.float64), tensor([0.], dtype=torch.float64), tensor([0.], dtype=torch.float64), tensor([0.], dtype=torch.float64), tensor([1.], dtype=torch.float64), tensor([0.], dtype=torch.float64)]}, original_affine: tensor([[[  -0.5859,    0.0000,    0.0000,  150.0000],\n",
      "         [   0.0000,   -0.5859,    0.0000,  150.0000],\n",
      "         [   0.0000,    0.0000,   -2.5000, -229.5000],\n",
      "         [   0.0000,    0.0000,    0.0000,    1.0000]]], dtype=torch.float64), affine: tensor([[[  -0.5859,    0.0000,    0.0000,  150.0000],\n",
      "         [   0.0000,   -0.5859,    0.0000,  150.0000],\n",
      "         [   0.0000,    0.0000,   -2.5000, -229.5000],\n",
      "         [   0.0000,    0.0000,    0.0000,    1.0000]]], dtype=torch.float64), spatial_shape: [tensor([512]), tensor([512]), tensor([87])], 'spacing': tensor([[0.5859, 0.5859, 2.5000]], dtype=torch.float64), space: [RAS], original_channel_dim: tensor([nan], dtype=torch.float64)}\n"
     ]
    }
   ],
   "source": [
    "# Separate the image and segmentation from the batch\n",
    "image, seg = batch[\"image\"], batch[\"seg\"]\n",
    "\n",
    "# Print useful information about the image and segmentation\n",
    "print(image.shape, seg.shape)\n",
    "print(image.dtype, seg.dtype)\n",
    "print(type(image), type(seg))\n",
    "\n",
    "# Print the metadata of the image\n",
    "print(image.meta)"
   ]
  },
  {
   "cell_type": "code",
   "execution_count": 20,
   "metadata": {},
   "outputs": [
    {
     "name": "stdout",
     "output_type": "stream",
     "text": [
      "tensor(150.0001, dtype=torch.float64) tensor(150.0001, dtype=torch.float64) tensor(108.7500, dtype=torch.float64)\n",
      "(512, 512, 87)\n"
     ]
    }
   ],
   "source": [
    "# Get the CT volume and spacing from the image metadata\n",
    "volume, spacing = image, image.meta[\"spacing\"]\n",
    "\n",
    "# Calculate the isocenter\n",
    "iso = torch.tensor(volume.shape[2:]) * spacing / 2\n",
    "\n",
    "# Convert the spacing to a list\n",
    "spacing = spacing.tolist()[0]\n",
    "\n",
    "# Convert the volume to a numpy array\n",
    "volume = volume.squeeze().numpy()\n",
    "\n",
    "# Flatten the isocenter tensor\n",
    "iso = iso.flatten()\n",
    "\n",
    "# Extract the isocenter coordinates\n",
    "bx, by, bz = iso[0], iso[1], iso[2]\n",
    "\n",
    "print(bx, by, bz)\n",
    "print(volume.shape)"
   ]
  },
  {
   "cell_type": "code",
   "execution_count": 21,
   "metadata": {},
   "outputs": [],
   "source": [
    "drr = DRR(\n",
    "    volume,      # The CT volume as a numpy array\n",
    "    spacing,     # Voxel dimensions of the CT\n",
    "    sdr=300.0,   # Source-to-detector radius (half of the source-to-detector distance)\n",
    "    height=200,  # Height of the DRR (if width is not seperately provided, the generated image is square)\n",
    "    delx=4.0,    # Pixel spacing (in mm)\n",
    ").to(device)"
   ]
  },
  {
   "cell_type": "code",
   "execution_count": 23,
   "metadata": {},
   "outputs": [],
   "source": [
    "# Set the camera pose with rotations (yaw, pitch, roll) and translations (x, y, z)\n",
    "rotations = torch.tensor([[torch.pi, 0.0, torch.pi / 2]], device=device)\n",
    "translations = torch.tensor([[bx, by, bz]], device=device)\n"
   ]
  },
  {
   "cell_type": "code",
   "execution_count": 24,
   "metadata": {},
   "outputs": [],
   "source": [
    "# Set the camera pose with rotations (yaw, pitch, roll) and translations (x, y, z)\n",
    "rotations = torch.tensor([[torch.pi, 0.0, torch.pi / 2]], device=device)\n",
    "translations = torch.tensor([[bx, by, bz]], device=device)\n"
   ]
  },
  {
   "cell_type": "code",
   "execution_count": 25,
   "metadata": {},
   "outputs": [],
   "source": [
    "img_liver = drr(rotations, translations, parameterization=\"euler_angles\", convention=\"ZYX\")"
   ]
  },
  {
   "cell_type": "code",
   "execution_count": 26,
   "metadata": {},
   "outputs": [
    {
     "data": {
      "image/png": "[encoded data removed]",
      "text/plain": [
       "<Figure size 1000x500 with 1 Axes>"
      ]
     },
     "metadata": {},
     "output_type": "display_data"
    }
   ],
   "source": [
    "# Plot the DRR\n",
    "plot_drr(img_liver, ticks=False)\n",
    "plt.show()"
   ]
  }
 ],
 "metadata": {
  "kernelspec": {
   "display_name": "torch-gpu",
   "language": "python",
   "name": "python3"
  },
  "language_info": {
   "codemirror_mode": {
    "name": "ipython",
    "version": 3
   },
   "file_extension": ".py",
   "mimetype": "text/x-python",
   "name": "python",
   "nbconvert_exporter": "python",
   "pygments_lexer": "ipython3",
   "version": "3.11.8"
  }
 },
 "nbformat": 4,
 "nbformat_minor": 2
}

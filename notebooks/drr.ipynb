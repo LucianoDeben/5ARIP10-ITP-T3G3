{
 "cells": [
  {
   "cell_type": "markdown",
   "metadata": {},
   "source": [
    "# Experimentation: Digitally Reconstructed Radiography (DRR)\n",
    "---"
   ]
  },
  {
   "cell_type": "markdown",
   "metadata": {
    "collapsed": false
   },
   "source": [
    "[Gopalakrishnan and Golland, 2022](https://doi.org/10.1007/978-3-031-23179-7_1) presented a method for solving inverse problems in intraoperative imaging using fast auto-differentiable digitally reconstructed radiographs. In this notebook, we apply the method described in their work to solve a similar problem in our analysis.\n",
    "\n",
    "`DiffDRR` is implemented as a custom PyTorch module."
   ]
  },
  {
   "cell_type": "code",
   "execution_count": 1,
   "metadata": {
    "ExecuteTime": {
     "end_time": "2024-03-21T12:57:16.523533Z",
     "start_time": "2024-03-21T12:56:52.723652Z"
    },
    "collapsed": false
   },
   "outputs": [
    {
     "name": "stdout",
     "output_type": "stream",
     "text": [
      "cuda:0\n"
     ]
    }
   ],
   "source": [
    "# Import libraries\n",
    "import sys\n",
    "sys.path.append(\"..\")\n",
    "\n",
    "from src.preprocessing import get_transforms, get_datasets, get_dataloaders\n",
    "\n",
    "import torch\n",
    "import matplotlib.pyplot as plt\n",
    "\n",
    "import matplotlib.pyplot as plt\n",
    "\n",
    "from diffdrr.drr import DRR\n",
    "from diffdrr.visualization import plot_drr\n",
    "from diffdrr.data import read_dicom\n",
    "\n",
    "from diffdrr.pose import convert\n",
    "from diffdrr.visualization import drr_to_mesh, img_to_mesh\n",
    "import pyvista\n",
    "\n",
    "# Set the device\n",
    "device = torch.device(\"cuda:0\" if torch.cuda.is_available() else \"cpu\")\n",
    "print(device)"
   ]
  },
  {
   "cell_type": "markdown",
   "metadata": {},
   "source": [
    "## Application for Abdominal CT Scans"
   ]
  },
  {
   "cell_type": "code",
   "execution_count": 2,
   "metadata": {},
   "outputs": [
    {
     "name": "stdout",
     "output_type": "stream",
     "text": [
      "2024-03-25 09:09:51,129 - INFO - Expected md5 is None, skip md5 check for file ..\\data\\HCC-TACE-Seg\\1.2.276.0.7230010.3.1.3.8323329.41.1604860085.518229.zip.\n",
      "2024-03-25 09:09:51,145 - INFO - File exists: ..\\data\\HCC-TACE-Seg\\1.2.276.0.7230010.3.1.3.8323329.41.1604860085.518229.zip, skipped downloading.\n",
      "2024-03-25 09:09:51,145 - INFO - Writing into directory: ..\\data\\HCC-TACE-Seg\\raw\\1.2.276.0.7230010.3.1.3.8323329.41.1604860085.518229.\n",
      "2024-03-25 09:09:51,648 - INFO - Expected md5 is None, skip md5 check for file ..\\data\\HCC-TACE-Seg\\1.3.6.1.4.1.14519.5.2.1.1706.8374.172517341095680731665822868712.zip.\n",
      "2024-03-25 09:09:51,648 - INFO - File exists: ..\\data\\HCC-TACE-Seg\\1.3.6.1.4.1.14519.5.2.1.1706.8374.172517341095680731665822868712.zip, skipped downloading.\n",
      "2024-03-25 09:09:51,648 - INFO - Writing into directory: ..\\data\\HCC-TACE-Seg\\HCC_017\\300\\image.\n",
      "2024-03-25 09:09:51,949 - INFO - Expected md5 is None, skip md5 check for file ..\\data\\HCC-TACE-Seg\\1.2.276.0.7230010.3.1.3.8323329.2087.1600929091.391108.zip.\n",
      "2024-03-25 09:09:51,949 - INFO - File exists: ..\\data\\HCC-TACE-Seg\\1.2.276.0.7230010.3.1.3.8323329.2087.1600929091.391108.zip, skipped downloading.\n",
      "2024-03-25 09:09:51,949 - INFO - Writing into directory: ..\\data\\HCC-TACE-Seg\\raw\\1.2.276.0.7230010.3.1.3.8323329.2087.1600929091.391108.\n",
      "2024-03-25 09:09:52,500 - INFO - Expected md5 is None, skip md5 check for file ..\\data\\HCC-TACE-Seg\\1.3.6.1.4.1.14519.5.2.1.1706.8374.231513034103627633230071228105.zip.\n",
      "2024-03-25 09:09:52,500 - INFO - File exists: ..\\data\\HCC-TACE-Seg\\1.3.6.1.4.1.14519.5.2.1.1706.8374.231513034103627633230071228105.zip, skipped downloading.\n",
      "2024-03-25 09:09:52,516 - INFO - Writing into directory: ..\\data\\HCC-TACE-Seg\\HCC_077\\300\\image.\n",
      "2024-03-25 09:09:52,911 - INFO - Expected md5 is None, skip md5 check for file ..\\data\\HCC-TACE-Seg\\1.2.276.0.7230010.3.1.3.8323329.2159.1600929114.382937.zip.\n",
      "2024-03-25 09:09:52,911 - INFO - File exists: ..\\data\\HCC-TACE-Seg\\1.2.276.0.7230010.3.1.3.8323329.2159.1600929114.382937.zip, skipped downloading.\n",
      "2024-03-25 09:09:52,911 - INFO - Writing into directory: ..\\data\\HCC-TACE-Seg\\raw\\1.2.276.0.7230010.3.1.3.8323329.2159.1600929114.382937.\n",
      "2024-03-25 09:09:53,663 - INFO - Expected md5 is None, skip md5 check for file ..\\data\\HCC-TACE-Seg\\1.3.6.1.4.1.14519.5.2.1.1706.8374.328381013969207951913699003250.zip.\n",
      "2024-03-25 09:09:53,663 - INFO - File exists: ..\\data\\HCC-TACE-Seg\\1.3.6.1.4.1.14519.5.2.1.1706.8374.328381013969207951913699003250.zip, skipped downloading.\n",
      "2024-03-25 09:09:53,663 - INFO - Writing into directory: ..\\data\\HCC-TACE-Seg\\HCC_081\\300\\image.\n",
      "2024-03-25 09:09:54,085 - INFO - Expected md5 is None, skip md5 check for file ..\\data\\HCC-TACE-Seg\\1.2.276.0.7230010.3.1.3.8323329.2015.1600929060.445346.zip.\n",
      "2024-03-25 09:09:54,085 - INFO - File exists: ..\\data\\HCC-TACE-Seg\\1.2.276.0.7230010.3.1.3.8323329.2015.1600929060.445346.zip, skipped downloading.\n",
      "2024-03-25 09:09:54,085 - INFO - Writing into directory: ..\\data\\HCC-TACE-Seg\\raw\\1.2.276.0.7230010.3.1.3.8323329.2015.1600929060.445346.\n",
      "2024-03-25 09:09:54,733 - INFO - Expected md5 is None, skip md5 check for file ..\\data\\HCC-TACE-Seg\\1.3.6.1.4.1.14519.5.2.1.1706.8374.248128077663297154202444477856.zip.\n",
      "2024-03-25 09:09:54,733 - INFO - File exists: ..\\data\\HCC-TACE-Seg\\1.3.6.1.4.1.14519.5.2.1.1706.8374.248128077663297154202444477856.zip, skipped downloading.\n",
      "2024-03-25 09:09:54,733 - INFO - Writing into directory: ..\\data\\HCC-TACE-Seg\\HCC_073\\300\\image.\n",
      "2024-03-25 09:09:55,241 - INFO - Expected md5 is None, skip md5 check for file ..\\data\\HCC-TACE-Seg\\1.2.276.0.7230010.3.1.3.8323329.1619.1600928909.284416.zip.\n",
      "2024-03-25 09:09:55,241 - INFO - File exists: ..\\data\\HCC-TACE-Seg\\1.2.276.0.7230010.3.1.3.8323329.1619.1600928909.284416.zip, skipped downloading.\n",
      "2024-03-25 09:09:55,241 - INFO - Writing into directory: ..\\data\\HCC-TACE-Seg\\raw\\1.2.276.0.7230010.3.1.3.8323329.1619.1600928909.284416.\n",
      "2024-03-25 09:09:55,798 - INFO - Expected md5 is None, skip md5 check for file ..\\data\\HCC-TACE-Seg\\1.3.6.1.4.1.14519.5.2.1.1706.8374.168467877926914067122086638555.zip.\n",
      "2024-03-25 09:09:55,798 - INFO - File exists: ..\\data\\HCC-TACE-Seg\\1.3.6.1.4.1.14519.5.2.1.1706.8374.168467877926914067122086638555.zip, skipped downloading.\n",
      "2024-03-25 09:09:55,798 - INFO - Writing into directory: ..\\data\\HCC-TACE-Seg\\HCC_051\\300\\image.\n",
      "2024-03-25 09:09:58,359 - INFO - Expected md5 is None, skip md5 check for file ..\\data\\HCC-TACE-Seg\\1.2.276.0.7230010.3.1.3.8323329.41.1604860085.518229.zip.\n",
      "2024-03-25 09:09:58,359 - INFO - File exists: ..\\data\\HCC-TACE-Seg\\1.2.276.0.7230010.3.1.3.8323329.41.1604860085.518229.zip, skipped downloading.\n",
      "2024-03-25 09:09:58,359 - INFO - Writing into directory: ..\\data\\HCC-TACE-Seg\\raw\\1.2.276.0.7230010.3.1.3.8323329.41.1604860085.518229.\n",
      "2024-03-25 09:09:58,830 - INFO - Expected md5 is None, skip md5 check for file ..\\data\\HCC-TACE-Seg\\1.3.6.1.4.1.14519.5.2.1.1706.8374.172517341095680731665822868712.zip.\n",
      "2024-03-25 09:09:58,830 - INFO - File exists: ..\\data\\HCC-TACE-Seg\\1.3.6.1.4.1.14519.5.2.1.1706.8374.172517341095680731665822868712.zip, skipped downloading.\n",
      "2024-03-25 09:09:58,830 - INFO - Writing into directory: ..\\data\\HCC-TACE-Seg\\HCC_017\\300\\image.\n",
      "2024-03-25 09:09:59,133 - INFO - Expected md5 is None, skip md5 check for file ..\\data\\HCC-TACE-Seg\\1.2.276.0.7230010.3.1.3.8323329.2087.1600929091.391108.zip.\n",
      "2024-03-25 09:09:59,133 - INFO - File exists: ..\\data\\HCC-TACE-Seg\\1.2.276.0.7230010.3.1.3.8323329.2087.1600929091.391108.zip, skipped downloading.\n",
      "2024-03-25 09:09:59,133 - INFO - Writing into directory: ..\\data\\HCC-TACE-Seg\\raw\\1.2.276.0.7230010.3.1.3.8323329.2087.1600929091.391108.\n",
      "2024-03-25 09:09:59,847 - INFO - Expected md5 is None, skip md5 check for file ..\\data\\HCC-TACE-Seg\\1.3.6.1.4.1.14519.5.2.1.1706.8374.231513034103627633230071228105.zip.\n",
      "2024-03-25 09:09:59,860 - INFO - File exists: ..\\data\\HCC-TACE-Seg\\1.3.6.1.4.1.14519.5.2.1.1706.8374.231513034103627633230071228105.zip, skipped downloading.\n",
      "2024-03-25 09:09:59,861 - INFO - Writing into directory: ..\\data\\HCC-TACE-Seg\\HCC_077\\300\\image.\n",
      "2024-03-25 09:10:00,276 - INFO - Expected md5 is None, skip md5 check for file ..\\data\\HCC-TACE-Seg\\1.2.276.0.7230010.3.1.3.8323329.2159.1600929114.382937.zip.\n",
      "2024-03-25 09:10:00,276 - INFO - File exists: ..\\data\\HCC-TACE-Seg\\1.2.276.0.7230010.3.1.3.8323329.2159.1600929114.382937.zip, skipped downloading.\n",
      "2024-03-25 09:10:00,278 - INFO - Writing into directory: ..\\data\\HCC-TACE-Seg\\raw\\1.2.276.0.7230010.3.1.3.8323329.2159.1600929114.382937.\n",
      "2024-03-25 09:10:00,875 - INFO - Expected md5 is None, skip md5 check for file ..\\data\\HCC-TACE-Seg\\1.3.6.1.4.1.14519.5.2.1.1706.8374.328381013969207951913699003250.zip.\n",
      "2024-03-25 09:10:00,876 - INFO - File exists: ..\\data\\HCC-TACE-Seg\\1.3.6.1.4.1.14519.5.2.1.1706.8374.328381013969207951913699003250.zip, skipped downloading.\n",
      "2024-03-25 09:10:00,878 - INFO - Writing into directory: ..\\data\\HCC-TACE-Seg\\HCC_081\\300\\image.\n",
      "2024-03-25 09:10:01,300 - INFO - Expected md5 is None, skip md5 check for file ..\\data\\HCC-TACE-Seg\\1.2.276.0.7230010.3.1.3.8323329.2015.1600929060.445346.zip.\n",
      "2024-03-25 09:10:01,300 - INFO - File exists: ..\\data\\HCC-TACE-Seg\\1.2.276.0.7230010.3.1.3.8323329.2015.1600929060.445346.zip, skipped downloading.\n",
      "2024-03-25 09:10:01,300 - INFO - Writing into directory: ..\\data\\HCC-TACE-Seg\\raw\\1.2.276.0.7230010.3.1.3.8323329.2015.1600929060.445346.\n",
      "2024-03-25 09:10:01,983 - INFO - Expected md5 is None, skip md5 check for file ..\\data\\HCC-TACE-Seg\\1.3.6.1.4.1.14519.5.2.1.1706.8374.248128077663297154202444477856.zip.\n",
      "2024-03-25 09:10:01,983 - INFO - File exists: ..\\data\\HCC-TACE-Seg\\1.3.6.1.4.1.14519.5.2.1.1706.8374.248128077663297154202444477856.zip, skipped downloading.\n",
      "2024-03-25 09:10:01,983 - INFO - Writing into directory: ..\\data\\HCC-TACE-Seg\\HCC_073\\300\\image.\n",
      "2024-03-25 09:10:02,482 - INFO - Expected md5 is None, skip md5 check for file ..\\data\\HCC-TACE-Seg\\1.2.276.0.7230010.3.1.3.8323329.1619.1600928909.284416.zip.\n",
      "2024-03-25 09:10:02,482 - INFO - File exists: ..\\data\\HCC-TACE-Seg\\1.2.276.0.7230010.3.1.3.8323329.1619.1600928909.284416.zip, skipped downloading.\n",
      "2024-03-25 09:10:02,484 - INFO - Writing into directory: ..\\data\\HCC-TACE-Seg\\raw\\1.2.276.0.7230010.3.1.3.8323329.1619.1600928909.284416.\n",
      "2024-03-25 09:10:03,071 - INFO - Expected md5 is None, skip md5 check for file ..\\data\\HCC-TACE-Seg\\1.3.6.1.4.1.14519.5.2.1.1706.8374.168467877926914067122086638555.zip.\n",
      "2024-03-25 09:10:03,072 - INFO - File exists: ..\\data\\HCC-TACE-Seg\\1.3.6.1.4.1.14519.5.2.1.1706.8374.168467877926914067122086638555.zip, skipped downloading.\n",
      "2024-03-25 09:10:03,073 - INFO - Writing into directory: ..\\data\\HCC-TACE-Seg\\HCC_051\\300\\image.\n",
      "[0 1 3 4] [2]\n",
      "4 1\n",
      "4 1\n"
     ]
    }
   ],
   "source": [
    "# Get transforms\n",
    "transform = get_transforms()\n",
    "\n",
    "# Get datasets\n",
    "train_ds, val_ds = get_datasets(root_dir=\"../data\", collection=\"HCC-TACE-Seg\", transform=transform, download_len=5, val_frac=0.2)\n",
    "\n",
    "# Get dataloaders\n",
    "train_loader, val_loader = get_dataloaders(train_ds, val_ds, batch_size=1)\n",
    "\n",
    "# Get datalists\n",
    "train_dl = train_ds.datalist\n",
    "val_dl = val_ds.datalist\n",
    " \n",
    "# Check length of datasets, dataloaders and datalists\n",
    "print(train_ds.get_indices(), val_ds.get_indices())\n",
    "print(len(train_loader), len(val_loader))\n",
    "print(len(train_dl), len(val_dl))"
   ]
  },
  {
   "cell_type": "code",
   "execution_count": 3,
   "metadata": {},
   "outputs": [
    {
     "name": "stdout",
     "output_type": "stream",
     "text": [
      "torch.Size([4, 512, 512, 64])\n"
     ]
    }
   ],
   "source": [
    "# Check the first batch\n",
    "batch = next(iter(train_loader))"
   ]
  },
  {
   "cell_type": "code",
   "execution_count": 4,
   "metadata": {},
   "outputs": [
    {
     "name": "stdout",
     "output_type": "stream",
     "text": [
      "torch.Size([1, 1, 512, 512, 64]) torch.Size([1, 4, 512, 512, 64])\n",
      "torch.float32 torch.float32\n",
      "<class 'monai.data.meta_tensor.MetaTensor'> <class 'monai.data.meta_tensor.MetaTensor'>\n",
      "{space: [RAS], 'lastImagePositionPatient': tensor([[-150.0000, -150.0000, -444.5000]], dtype=torch.float64), '00200037': {'vr': ['DS'], 'Value': [tensor([1.], dtype=torch.float64), tensor([0.], dtype=torch.float64), tensor([0.], dtype=torch.float64), tensor([0.], dtype=torch.float64), tensor([1.], dtype=torch.float64), tensor([0.], dtype=torch.float64)]}, 'spacing': tensor([[0.5859, 0.5859, 2.5000]], dtype=torch.float64), spatial_shape: [tensor([512]), tensor([512]), tensor([87])], 'filename_or_obj': ['..\\\\data\\\\HCC-TACE-Seg\\\\HCC_077\\\\300\\\\image'], '00200032': {'vr': ['DS'], 'Value': [tensor([-150.], dtype=torch.float64), tensor([-150.], dtype=torch.float64), tensor([-229.5000], dtype=torch.float64)]}, original_channel_dim: tensor([nan], dtype=torch.float64), affine: tensor([[[  -0.5859,    0.0000,    0.0000,  150.0000],\n",
      "         [   0.0000,   -0.5859,    0.0000,  150.0000],\n",
      "         [   0.0000,    0.0000,   -2.5000, -257.0000],\n",
      "         [   0.0000,    0.0000,    0.0000,    1.0000]]], dtype=torch.float64), original_affine: tensor([[[  -0.5859,    0.0000,    0.0000,  150.0000],\n",
      "         [   0.0000,   -0.5859,    0.0000,  150.0000],\n",
      "         [   0.0000,    0.0000,   -2.5000, -229.5000],\n",
      "         [   0.0000,    0.0000,    0.0000,    1.0000]]], dtype=torch.float64), '00280030': {'vr': ['DS'], 'Value': [tensor([0.5859], dtype=torch.float64), tensor([0.5859], dtype=torch.float64), tensor([2.5000], dtype=torch.float64)]}}\n"
     ]
    }
   ],
   "source": [
    "# Separate the image and segmentation from the batch\n",
    "image, seg = batch[\"image\"], batch[\"seg\"]\n",
    "\n",
    "# Print useful information about the image and segmentation\n",
    "print(image.shape, seg.shape)\n",
    "print(image.dtype, seg.dtype)\n",
    "print(type(image), type(seg))\n",
    "\n",
    "# Print the metadata of the image\n",
    "print(image.meta)"
   ]
  },
  {
   "cell_type": "code",
   "execution_count": 42,
   "metadata": {},
   "outputs": [
    {
     "name": "stdout",
     "output_type": "stream",
     "text": [
      "tensor(179.9936) tensor(179.9936) tensor(78.7500)\n",
      "(512, 512, 63)\n",
      "[0.7031, 0.7031, 2.5]\n"
     ]
    }
   ],
   "source": [
    "# # Get the CT volume and spacing from the train datalist sample\n",
    "# volume, spacing = read_dicom(train_dl[0][\"image\"])\n",
    "# spacing = [0.7031, 0.7031, 2.5000]\n",
    "\n",
    "# # Calculate the isocenter\n",
    "# iso = torch.tensor(volume.shape) * torch.tensor(spacing) / 2\n",
    "\n",
    "# # Extract the isocenter coordinates\n",
    "# bx, by, bz = iso[0], iso[1], iso[2]\n",
    "\n",
    "# print(bx, by, bz)\n",
    "# print(volume.shape)\n",
    "# print(spacing)"
   ]
  },
  {
   "cell_type": "code",
   "execution_count": 5,
   "metadata": {},
   "outputs": [
    {
     "name": "stdout",
     "output_type": "stream",
     "text": [
      "tensor(150.0001, dtype=torch.float64) tensor(150.0001, dtype=torch.float64) tensor(80., dtype=torch.float64)\n",
      "(512, 512, 64)\n"
     ]
    }
   ],
   "source": [
    "# Get the CT volume and spacing from the image metadata\n",
    "volume, spacing = image, image.meta[\"spacing\"]\n",
    "\n",
    "# Calculate the isocenter\n",
    "iso = torch.tensor(volume.shape[2:]) * spacing / 2\n",
    "\n",
    "# Convert the spacing to a list\n",
    "spacing = spacing.tolist()[0]\n",
    "\n",
    "# Convert the volume to a numpy array\n",
    "volume = volume.squeeze().numpy()\n",
    "\n",
    "# Flatten the isocenter tensor\n",
    "iso = iso.flatten()\n",
    "\n",
    "# Extract the isocenter coordinates\n",
    "bx, by, bz = iso[0], iso[1], iso[2]\n",
    "\n",
    "print(bx, by, bz)\n",
    "print(volume.shape)"
   ]
  },
  {
   "cell_type": "code",
   "execution_count": 6,
   "metadata": {},
   "outputs": [],
   "source": [
    "drr = DRR(\n",
    "    volume,      # The CT volume as a numpy array\n",
    "    spacing,     # Voxel dimensions of the CT\n",
    "    sdr=300.0,   # Source-to-detector radius (half of the source-to-detector distance)\n",
    "    height=200,  # Height of the DRR (if width is not seperately provided, the generated image is square)\n",
    "    delx=4.0,    # Pixel spacing (in mm)\n",
    ").to(device)"
   ]
  },
  {
   "cell_type": "code",
   "execution_count": 7,
   "metadata": {},
   "outputs": [],
   "source": [
    "# Set the camera pose with rotations (yaw, pitch, roll) and translations (x, y, z)\n",
    "rotations = torch.tensor([[torch.pi, 0.0, torch.pi / 2]], device=device)\n",
    "translations = torch.tensor([[bx, by, bz]], device=device)"
   ]
  },
  {
   "cell_type": "code",
   "execution_count": 8,
   "metadata": {},
   "outputs": [],
   "source": [
    "img_liver = drr(rotations, translations, parameterization=\"euler_angles\", convention=\"ZYX\")"
   ]
  },
  {
   "cell_type": "code",
   "execution_count": 51,
   "metadata": {},
   "outputs": [
    {
     "data": {
      "image/png": "[encoded data removed]",
      "text/plain": [
       "<Figure size 1000x500 with 1 Axes>"
      ]
     },
     "metadata": {},
     "output_type": "display_data"
    }
   ],
   "source": [
    "# Plot the DRR\n",
    "plot_drr(img_liver, ticks=False)\n",
    "plt.show()"
   ]
  },
  {
   "cell_type": "code",
   "execution_count": 9,
   "metadata": {},
   "outputs": [
    {
     "data": {
      "application/vnd.jupyter.widget-view+json": {
       "model_id": "94af65bff59f4af8978ae4cabcb4fe7f",
       "version_major": 2,
       "version_minor": 0
      },
      "text/plain": [
       "Widget(value='<iframe src=\"http://localhost:54115/index.html?ui=P_0x177e6a5bd90_0&reconnect=auto\" class=\"pyvis…"
      ]
     },
     "metadata": {},
     "output_type": "display_data"
    }
   ],
   "source": [
    "# Make a mesh from the CT volume\n",
    "ct = drr_to_mesh(drr, \"surface_nets\", threshold=1150, verbose=False)\n",
    "\n",
    "# Make a mesh from the camera and detector plane\n",
    "rotations = torch.tensor([[torch.pi, 0.0, torch.pi / 2]], device=device)\n",
    "translations = torch.tensor([[bx - 300, by, bz]], device=device)\n",
    "pose = convert(rotations, translations, parameterization=\"euler_angles\", convention=\"ZYX\")\n",
    "camera, detector, texture, principal_ray = img_to_mesh(drr, pose)\n",
    "\n",
    "# Make the plot\n",
    "plotter = pyvista.Plotter()\n",
    "plotter.add_mesh(ct)\n",
    "plotter.add_mesh(camera, show_edges=True, line_width=1.5)\n",
    "plotter.add_mesh(principal_ray, color=\"lime\", line_width=3)\n",
    "plotter.add_mesh(detector, texture=texture)\n",
    "\n",
    "# Render the plot\n",
    "plotter.add_axes()\n",
    "plotter.add_bounding_box()\n",
    "\n",
    "plotter.show()  # If running Jupyter locally\n",
    "# plotter.show(jupyter_backend=\"server\")  # If running Jupyter remotely\n",
    "#plotter.export_html(\"render.html\")"
   ]
  },
  {
   "cell_type": "code",
   "execution_count": 35,
   "metadata": {},
   "outputs": [
    {
     "data": {
      "text/html": [
       "\n",
       "        <iframe\n",
       "            width=\"749\"\n",
       "            height=\"500\"\n",
       "            src=\"render.html\"\n",
       "            frameborder=\"0\"\n",
       "            allowfullscreen\n",
       "            \n",
       "        ></iframe>\n",
       "        "
      ],
      "text/plain": [
       "<IPython.lib.display.IFrame at 0x1927a4eb290>"
      ]
     },
     "execution_count": 35,
     "metadata": {},
     "output_type": "execute_result"
    }
   ],
   "source": [
    "from IPython.display import IFrame\n",
    "\n",
    "IFrame(\"render.html\", height=500, width=749)"
   ]
  }
 ],
 "metadata": {
  "kernelspec": {
   "display_name": "torch-gpu",
   "language": "python",
   "name": "python3"
  },
  "language_info": {
   "codemirror_mode": {
    "name": "ipython",
    "version": 3
   },
   "file_extension": ".py",
   "mimetype": "text/x-python",
   "name": "python",
   "nbconvert_exporter": "python",
   "pygments_lexer": "ipython3",
   "version": "3.11.8"
  }
 },
 "nbformat": 4,
 "nbformat_minor": 2
}

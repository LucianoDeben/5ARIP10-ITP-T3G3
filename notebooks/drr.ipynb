{
 "cells": [
  {
   "cell_type": "markdown",
   "metadata": {},
   "source": [
    "# Experimentation: Digitally Reconstructed Radiography (DRR)\n",
    "---"
   ]
  },
  {
   "cell_type": "markdown",
   "metadata": {
    "collapsed": false
   },
   "source": [
    "[Gopalakrishnan and Golland, 2022](https://doi.org/10.1007/978-3-031-23179-7_1) presented a method for solving inverse problems in intraoperative imaging using fast auto-differentiable digitally reconstructed radiographs. In this notebook, we apply the method described in their work to solve a similar problem in our analysis.\n",
    "\n",
    "`DiffDRR` is implemented as a custom PyTorch module."
   ]
  },
  {
   "cell_type": "code",
   "execution_count": 1,
   "metadata": {
    "ExecuteTime": {
     "end_time": "2024-03-21T12:57:16.523533Z",
     "start_time": "2024-03-21T12:56:52.723652Z"
    },
    "collapsed": false
   },
   "outputs": [
    {
     "name": "stdout",
     "output_type": "stream",
     "text": [
      "MONAI version: 1.3.0\n",
      "Numpy version: 1.26.4\n",
      "Pytorch version: 2.2.1\n",
      "MONAI flags: HAS_EXT = False, USE_COMPILED = False, USE_META_DICT = False\n",
      "MONAI rev id: 865972f7a791bf7b42efbcd87c8402bd865b329e\n",
      "MONAI __file__: c:\\Users\\<username>\\AppData\\Local\\anaconda3\\envs\\torch-gpu\\Lib\\site-packages\\monai\\__init__.py\n",
      "\n",
      "Optional dependencies:\n",
      "Pytorch Ignite version: NOT INSTALLED or UNKNOWN VERSION.\n",
      "ITK version: 5.3.0\n",
      "Nibabel version: 5.2.1\n",
      "scikit-image version: NOT INSTALLED or UNKNOWN VERSION.\n",
      "scipy version: 1.12.0\n",
      "Pillow version: 10.2.0\n",
      "Tensorboard version: 2.16.2\n",
      "gdown version: NOT INSTALLED or UNKNOWN VERSION.\n",
      "TorchVision version: 0.17.1\n",
      "tqdm version: 4.66.2\n",
      "lmdb version: NOT INSTALLED or UNKNOWN VERSION.\n",
      "psutil version: 5.9.8\n",
      "pandas version: 2.2.1\n",
      "einops version: 0.7.0\n",
      "transformers version: NOT INSTALLED or UNKNOWN VERSION.\n",
      "mlflow version: NOT INSTALLED or UNKNOWN VERSION.\n",
      "pynrrd version: NOT INSTALLED or UNKNOWN VERSION.\n",
      "clearml version: NOT INSTALLED or UNKNOWN VERSION.\n",
      "\n",
      "For details about installing the optional dependencies, please visit:\n",
      "    https://docs.monai.io/en/latest/installation.html#installing-the-recommended-dependencies\n",
      "\n",
      "cuda:0\n"
     ]
    }
   ],
   "source": [
    "# Import libraries\n",
    "import sys\n",
    "sys.path.append(\"..\")\n",
    "\n",
    "from monai.config import print_config\n",
    "from src.preprocessing import get_transforms, get_datasets, get_dataloaders\n",
    "\n",
    "import torch\n",
    "import matplotlib.pyplot as plt\n",
    "\n",
    "import matplotlib.pyplot as plt\n",
    "\n",
    "from diffdrr.drr import DRR\n",
    "from diffdrr.visualization import plot_drr\n",
    "\n",
    "print_config()\n",
    "\n",
    "# Set the device\n",
    "device = torch.device(\"cuda:0\" if torch.cuda.is_available() else \"cpu\")\n",
    "print(device)"
   ]
  },
  {
   "cell_type": "markdown",
   "metadata": {},
   "source": [
    "## Application for Abdominal CT Scans"
   ]
  },
  {
   "cell_type": "code",
   "execution_count": 2,
   "metadata": {},
   "outputs": [
    {
     "name": "stdout",
     "output_type": "stream",
     "text": [
      "2024-03-24 11:27:08,206 - INFO - Expected md5 is None, skip md5 check for file ..\\data\\HCC-TACE-Seg\\1.2.276.0.7230010.3.1.3.8323329.41.1604860085.518229.zip.\n",
      "2024-03-24 11:27:08,206 - INFO - File exists: ..\\data\\HCC-TACE-Seg\\1.2.276.0.7230010.3.1.3.8323329.41.1604860085.518229.zip, skipped downloading.\n",
      "2024-03-24 11:27:08,206 - INFO - Writing into directory: ..\\data\\HCC-TACE-Seg\\raw\\1.2.276.0.7230010.3.1.3.8323329.41.1604860085.518229.\n",
      "2024-03-24 11:27:08,697 - INFO - Expected md5 is None, skip md5 check for file ..\\data\\HCC-TACE-Seg\\1.3.6.1.4.1.14519.5.2.1.1706.8374.172517341095680731665822868712.zip.\n",
      "2024-03-24 11:27:08,697 - INFO - File exists: ..\\data\\HCC-TACE-Seg\\1.3.6.1.4.1.14519.5.2.1.1706.8374.172517341095680731665822868712.zip, skipped downloading.\n",
      "2024-03-24 11:27:08,697 - INFO - Writing into directory: ..\\data\\HCC-TACE-Seg\\HCC_017\\300\\image.\n",
      "2024-03-24 11:27:08,963 - INFO - Expected md5 is None, skip md5 check for file ..\\data\\HCC-TACE-Seg\\1.2.276.0.7230010.3.1.3.8323329.2087.1600929091.391108.zip.\n",
      "2024-03-24 11:27:08,963 - INFO - File exists: ..\\data\\HCC-TACE-Seg\\1.2.276.0.7230010.3.1.3.8323329.2087.1600929091.391108.zip, skipped downloading.\n",
      "2024-03-24 11:27:08,968 - INFO - Writing into directory: ..\\data\\HCC-TACE-Seg\\raw\\1.2.276.0.7230010.3.1.3.8323329.2087.1600929091.391108.\n",
      "2024-03-24 11:27:09,543 - INFO - Expected md5 is None, skip md5 check for file ..\\data\\HCC-TACE-Seg\\1.3.6.1.4.1.14519.5.2.1.1706.8374.231513034103627633230071228105.zip.\n",
      "2024-03-24 11:27:09,543 - INFO - File exists: ..\\data\\HCC-TACE-Seg\\1.3.6.1.4.1.14519.5.2.1.1706.8374.231513034103627633230071228105.zip, skipped downloading.\n",
      "2024-03-24 11:27:09,543 - INFO - Writing into directory: ..\\data\\HCC-TACE-Seg\\HCC_077\\300\\image.\n",
      "2024-03-24 11:27:09,904 - INFO - Expected md5 is None, skip md5 check for file ..\\data\\HCC-TACE-Seg\\1.2.276.0.7230010.3.1.3.8323329.2159.1600929114.382937.zip.\n",
      "2024-03-24 11:27:09,920 - INFO - File exists: ..\\data\\HCC-TACE-Seg\\1.2.276.0.7230010.3.1.3.8323329.2159.1600929114.382937.zip, skipped downloading.\n",
      "2024-03-24 11:27:09,920 - INFO - Writing into directory: ..\\data\\HCC-TACE-Seg\\raw\\1.2.276.0.7230010.3.1.3.8323329.2159.1600929114.382937.\n",
      "2024-03-24 11:27:10,672 - INFO - Expected md5 is None, skip md5 check for file ..\\data\\HCC-TACE-Seg\\1.3.6.1.4.1.14519.5.2.1.1706.8374.328381013969207951913699003250.zip.\n",
      "2024-03-24 11:27:10,672 - INFO - File exists: ..\\data\\HCC-TACE-Seg\\1.3.6.1.4.1.14519.5.2.1.1706.8374.328381013969207951913699003250.zip, skipped downloading.\n",
      "2024-03-24 11:27:10,676 - INFO - Writing into directory: ..\\data\\HCC-TACE-Seg\\HCC_081\\300\\image.\n",
      "2024-03-24 11:27:11,030 - INFO - Expected md5 is None, skip md5 check for file ..\\data\\HCC-TACE-Seg\\1.2.276.0.7230010.3.1.3.8323329.2015.1600929060.445346.zip.\n",
      "2024-03-24 11:27:11,030 - INFO - File exists: ..\\data\\HCC-TACE-Seg\\1.2.276.0.7230010.3.1.3.8323329.2015.1600929060.445346.zip, skipped downloading.\n",
      "2024-03-24 11:27:11,030 - INFO - Writing into directory: ..\\data\\HCC-TACE-Seg\\raw\\1.2.276.0.7230010.3.1.3.8323329.2015.1600929060.445346.\n",
      "2024-03-24 11:27:11,674 - INFO - Expected md5 is None, skip md5 check for file ..\\data\\HCC-TACE-Seg\\1.3.6.1.4.1.14519.5.2.1.1706.8374.248128077663297154202444477856.zip.\n",
      "2024-03-24 11:27:11,674 - INFO - File exists: ..\\data\\HCC-TACE-Seg\\1.3.6.1.4.1.14519.5.2.1.1706.8374.248128077663297154202444477856.zip, skipped downloading.\n",
      "2024-03-24 11:27:11,674 - INFO - Writing into directory: ..\\data\\HCC-TACE-Seg\\HCC_073\\300\\image.\n",
      "2024-03-24 11:27:12,093 - INFO - Expected md5 is None, skip md5 check for file ..\\data\\HCC-TACE-Seg\\1.2.276.0.7230010.3.1.3.8323329.1619.1600928909.284416.zip.\n",
      "2024-03-24 11:27:12,093 - INFO - File exists: ..\\data\\HCC-TACE-Seg\\1.2.276.0.7230010.3.1.3.8323329.1619.1600928909.284416.zip, skipped downloading.\n",
      "2024-03-24 11:27:12,109 - INFO - Writing into directory: ..\\data\\HCC-TACE-Seg\\raw\\1.2.276.0.7230010.3.1.3.8323329.1619.1600928909.284416.\n",
      "2024-03-24 11:27:12,677 - INFO - Expected md5 is None, skip md5 check for file ..\\data\\HCC-TACE-Seg\\1.3.6.1.4.1.14519.5.2.1.1706.8374.168467877926914067122086638555.zip.\n",
      "2024-03-24 11:27:12,677 - INFO - File exists: ..\\data\\HCC-TACE-Seg\\1.3.6.1.4.1.14519.5.2.1.1706.8374.168467877926914067122086638555.zip, skipped downloading.\n",
      "2024-03-24 11:27:12,678 - INFO - Writing into directory: ..\\data\\HCC-TACE-Seg\\HCC_051\\300\\image.\n",
      "2024-03-24 11:27:15,458 - INFO - Expected md5 is None, skip md5 check for file ..\\data\\HCC-TACE-Seg\\1.2.276.0.7230010.3.1.3.8323329.41.1604860085.518229.zip.\n",
      "2024-03-24 11:27:15,458 - INFO - File exists: ..\\data\\HCC-TACE-Seg\\1.2.276.0.7230010.3.1.3.8323329.41.1604860085.518229.zip, skipped downloading.\n",
      "2024-03-24 11:27:15,458 - INFO - Writing into directory: ..\\data\\HCC-TACE-Seg\\raw\\1.2.276.0.7230010.3.1.3.8323329.41.1604860085.518229.\n",
      "2024-03-24 11:27:15,949 - INFO - Expected md5 is None, skip md5 check for file ..\\data\\HCC-TACE-Seg\\1.3.6.1.4.1.14519.5.2.1.1706.8374.172517341095680731665822868712.zip.\n",
      "2024-03-24 11:27:15,949 - INFO - File exists: ..\\data\\HCC-TACE-Seg\\1.3.6.1.4.1.14519.5.2.1.1706.8374.172517341095680731665822868712.zip, skipped downloading.\n",
      "2024-03-24 11:27:15,949 - INFO - Writing into directory: ..\\data\\HCC-TACE-Seg\\HCC_017\\300\\image.\n",
      "2024-03-24 11:27:16,216 - INFO - Expected md5 is None, skip md5 check for file ..\\data\\HCC-TACE-Seg\\1.2.276.0.7230010.3.1.3.8323329.2087.1600929091.391108.zip.\n",
      "2024-03-24 11:27:16,216 - INFO - File exists: ..\\data\\HCC-TACE-Seg\\1.2.276.0.7230010.3.1.3.8323329.2087.1600929091.391108.zip, skipped downloading.\n",
      "2024-03-24 11:27:16,216 - INFO - Writing into directory: ..\\data\\HCC-TACE-Seg\\raw\\1.2.276.0.7230010.3.1.3.8323329.2087.1600929091.391108.\n",
      "2024-03-24 11:27:16,921 - INFO - Expected md5 is None, skip md5 check for file ..\\data\\HCC-TACE-Seg\\1.3.6.1.4.1.14519.5.2.1.1706.8374.231513034103627633230071228105.zip.\n",
      "2024-03-24 11:27:16,921 - INFO - File exists: ..\\data\\HCC-TACE-Seg\\1.3.6.1.4.1.14519.5.2.1.1706.8374.231513034103627633230071228105.zip, skipped downloading.\n",
      "2024-03-24 11:27:16,921 - INFO - Writing into directory: ..\\data\\HCC-TACE-Seg\\HCC_077\\300\\image.\n",
      "2024-03-24 11:27:17,279 - INFO - Expected md5 is None, skip md5 check for file ..\\data\\HCC-TACE-Seg\\1.2.276.0.7230010.3.1.3.8323329.2159.1600929114.382937.zip.\n",
      "2024-03-24 11:27:17,279 - INFO - File exists: ..\\data\\HCC-TACE-Seg\\1.2.276.0.7230010.3.1.3.8323329.2159.1600929114.382937.zip, skipped downloading.\n",
      "2024-03-24 11:27:17,279 - INFO - Writing into directory: ..\\data\\HCC-TACE-Seg\\raw\\1.2.276.0.7230010.3.1.3.8323329.2159.1600929114.382937.\n",
      "2024-03-24 11:27:17,826 - INFO - Expected md5 is None, skip md5 check for file ..\\data\\HCC-TACE-Seg\\1.3.6.1.4.1.14519.5.2.1.1706.8374.328381013969207951913699003250.zip.\n",
      "2024-03-24 11:27:17,827 - INFO - File exists: ..\\data\\HCC-TACE-Seg\\1.3.6.1.4.1.14519.5.2.1.1706.8374.328381013969207951913699003250.zip, skipped downloading.\n",
      "2024-03-24 11:27:17,828 - INFO - Writing into directory: ..\\data\\HCC-TACE-Seg\\HCC_081\\300\\image.\n",
      "2024-03-24 11:27:18,187 - INFO - Expected md5 is None, skip md5 check for file ..\\data\\HCC-TACE-Seg\\1.2.276.0.7230010.3.1.3.8323329.2015.1600929060.445346.zip.\n",
      "2024-03-24 11:27:18,187 - INFO - File exists: ..\\data\\HCC-TACE-Seg\\1.2.276.0.7230010.3.1.3.8323329.2015.1600929060.445346.zip, skipped downloading.\n",
      "2024-03-24 11:27:18,187 - INFO - Writing into directory: ..\\data\\HCC-TACE-Seg\\raw\\1.2.276.0.7230010.3.1.3.8323329.2015.1600929060.445346.\n",
      "2024-03-24 11:27:18,825 - INFO - Expected md5 is None, skip md5 check for file ..\\data\\HCC-TACE-Seg\\1.3.6.1.4.1.14519.5.2.1.1706.8374.248128077663297154202444477856.zip.\n",
      "2024-03-24 11:27:18,826 - INFO - File exists: ..\\data\\HCC-TACE-Seg\\1.3.6.1.4.1.14519.5.2.1.1706.8374.248128077663297154202444477856.zip, skipped downloading.\n",
      "2024-03-24 11:27:18,826 - INFO - Writing into directory: ..\\data\\HCC-TACE-Seg\\HCC_073\\300\\image.\n",
      "2024-03-24 11:27:19,250 - INFO - Expected md5 is None, skip md5 check for file ..\\data\\HCC-TACE-Seg\\1.2.276.0.7230010.3.1.3.8323329.1619.1600928909.284416.zip.\n",
      "2024-03-24 11:27:19,252 - INFO - File exists: ..\\data\\HCC-TACE-Seg\\1.2.276.0.7230010.3.1.3.8323329.1619.1600928909.284416.zip, skipped downloading.\n",
      "2024-03-24 11:27:19,252 - INFO - Writing into directory: ..\\data\\HCC-TACE-Seg\\raw\\1.2.276.0.7230010.3.1.3.8323329.1619.1600928909.284416.\n",
      "2024-03-24 11:27:19,796 - INFO - Expected md5 is None, skip md5 check for file ..\\data\\HCC-TACE-Seg\\1.3.6.1.4.1.14519.5.2.1.1706.8374.168467877926914067122086638555.zip.\n",
      "2024-03-24 11:27:19,796 - INFO - File exists: ..\\data\\HCC-TACE-Seg\\1.3.6.1.4.1.14519.5.2.1.1706.8374.168467877926914067122086638555.zip, skipped downloading.\n",
      "2024-03-24 11:27:19,796 - INFO - Writing into directory: ..\\data\\HCC-TACE-Seg\\HCC_051\\300\\image.\n",
      "[0 1 3 4] [2]\n",
      "4 1\n"
     ]
    }
   ],
   "source": [
    "# Get transforms\n",
    "transform = get_transforms()\n",
    "\n",
    "# Get datasets\n",
    "train_ds, val_ds = get_datasets(root_dir=\"../data\", collection=\"HCC-TACE-Seg\", transform=transform, download_len=5, val_frac=0.2)\n",
    "\n",
    "# Get dataloaders\n",
    "train_loader, val_loader = get_dataloaders(train_ds, val_ds, batch_size=1)\n",
    "\n",
    "# Check length of datasets and dataloaders\n",
    "print(train_ds.get_indices(), val_ds.get_indices())\n",
    "print(len(train_loader), len(val_loader))"
   ]
  },
  {
   "cell_type": "code",
   "execution_count": 3,
   "metadata": {},
   "outputs": [
    {
     "name": "stdout",
     "output_type": "stream",
     "text": [
      "torch.Size([5, 512, 512, 64])\n"
     ]
    }
   ],
   "source": [
    "# Check the first batch\n",
    "batch = next(iter(train_loader))"
   ]
  },
  {
   "cell_type": "code",
   "execution_count": 4,
   "metadata": {},
   "outputs": [
    {
     "name": "stdout",
     "output_type": "stream",
     "text": [
      "torch.Size([1, 1, 64, 64, 64]) torch.Size([1, 5, 64, 64, 64])\n",
      "torch.float32 torch.float32\n",
      "<class 'monai.data.meta_tensor.MetaTensor'> <class 'monai.data.meta_tensor.MetaTensor'>\n",
      "{original_affine: tensor([[[ -0.7031,   0.0000,   0.0000, 176.4000],\n",
      "         [  0.0000,  -0.7031,   0.0000, 180.0000],\n",
      "         [  0.0000,   0.0000,  -2.5000, -65.0000],\n",
      "         [  0.0000,   0.0000,   0.0000,   1.0000]]], dtype=torch.float64), 'spacing': tensor([[0.7031, 0.7031, 2.5000]], dtype=torch.float64), 'filename_or_obj': ['..\\\\data\\\\HCC-TACE-Seg\\\\HCC_017\\\\300\\\\image'], 'lastImagePositionPatient': tensor([[-176.4000, -180.0000, -220.0000]], dtype=torch.float64), '00280030': {'vr': ['DS'], 'Value': [tensor([0.7031], dtype=torch.float64), tensor([0.7031], dtype=torch.float64), tensor([2.5000], dtype=torch.float64)]}, spatial_shape: [tensor([512]), tensor([512]), tensor([63])], original_channel_dim: tensor([nan], dtype=torch.float64), '00200032': {'vr': ['DS'], 'Value': [tensor([-176.4000], dtype=torch.float64), tensor([-180.], dtype=torch.float64), tensor([-65.], dtype=torch.float64)]}, space: [RAS], affine: tensor([[[ -5.6250,   0.0000,   0.0000, 173.9391],\n",
      "         [  0.0000,  -5.6250,   0.0000, 177.5391],\n",
      "         [  0.0000,   0.0000,  -2.5000, -65.0000],\n",
      "         [  0.0000,   0.0000,   0.0000,   1.0000]]], dtype=torch.float64), '00200037': {'vr': ['DS'], 'Value': [tensor([1.], dtype=torch.float64), tensor([0.], dtype=torch.float64), tensor([0.], dtype=torch.float64), tensor([0.], dtype=torch.float64), tensor([1.], dtype=torch.float64), tensor([0.], dtype=torch.float64)]}}\n"
     ]
    }
   ],
   "source": [
    "# Separate the image and segmentation from the batch\n",
    "image, seg = batch[\"image\"], batch[\"seg\"]\n",
    "\n",
    "# Print useful information about the image and segmentation\n",
    "print(image.shape, seg.shape)\n",
    "print(image.dtype, seg.dtype)\n",
    "print(type(image), type(seg))\n",
    "\n",
    "# Print the metadata of the image\n",
    "print(image.meta)"
   ]
  },
  {
   "cell_type": "code",
   "execution_count": 5,
   "metadata": {},
   "outputs": [
    {
     "name": "stdout",
     "output_type": "stream",
     "text": [
      "tensor(22.5000, dtype=torch.float64) tensor(22.5000, dtype=torch.float64) tensor(80., dtype=torch.float64)\n",
      "(64, 64, 64)\n"
     ]
    }
   ],
   "source": [
    "# Get the CT volume and spacing from the image metadata\n",
    "volume, spacing = image, image.meta[\"spacing\"]\n",
    "\n",
    "# Calculate the isocenter\n",
    "iso = torch.tensor(volume.shape[2:]) * spacing / 2\n",
    "\n",
    "# Convert the spacing to a list\n",
    "spacing = spacing.tolist()[0]\n",
    "\n",
    "# Convert the volume to a numpy array\n",
    "volume = volume.squeeze().numpy()\n",
    "\n",
    "# Flatten the isocenter tensor\n",
    "iso = iso.flatten()\n",
    "\n",
    "# Extract the isocenter coordinates\n",
    "bx, by, bz = iso[0], iso[1], iso[2]\n",
    "\n",
    "print(bx, by, bz)\n",
    "print(volume.shape)"
   ]
  },
  {
   "cell_type": "code",
   "execution_count": 6,
   "metadata": {},
   "outputs": [],
   "source": [
    "drr = DRR(\n",
    "    volume,      # The CT volume as a numpy array\n",
    "    spacing,     # Voxel dimensions of the CT\n",
    "    sdr=300.0,   # Source-to-detector radius (half of the source-to-detector distance)\n",
    "    height=200,  # Height of the DRR (if width is not seperately provided, the generated image is square)\n",
    "    delx=4.0,    # Pixel spacing (in mm)\n",
    ").to(device)"
   ]
  },
  {
   "cell_type": "code",
   "execution_count": 11,
   "metadata": {},
   "outputs": [],
   "source": [
    "# Set the camera pose with rotations (yaw, pitch, roll) and translations (x, y, z)\n",
    "rotations = torch.tensor([[torch.pi, 0.0, torch.pi / 2]], device=device)\n",
    "translations = torch.tensor([[bx, by, bz]], device=device)\n"
   ]
  },
  {
   "cell_type": "code",
   "execution_count": 12,
   "metadata": {},
   "outputs": [],
   "source": [
    "img_liver = drr(rotations, translations, parameterization=\"euler_angles\", convention=\"ZYX\")"
   ]
  },
  {
   "cell_type": "code",
   "execution_count": 13,
   "metadata": {},
   "outputs": [
    {
     "data": {
      "image/png": "[encoded data removed]",
      "text/plain": [
       "<Figure size 1000x500 with 1 Axes>"
      ]
     },
     "metadata": {},
     "output_type": "display_data"
    }
   ],
   "source": [
    "# Plot the DRR\n",
    "plot_drr(img_liver, ticks=False)\n",
    "plt.show()"
   ]
  }
 ],
 "metadata": {
  "kernelspec": {
   "display_name": "torch-gpu",
   "language": "python",
   "name": "python3"
  },
  "language_info": {
   "codemirror_mode": {
    "name": "ipython",
    "version": 3
   },
   "file_extension": ".py",
   "mimetype": "text/x-python",
   "name": "python",
   "nbconvert_exporter": "python",
   "pygments_lexer": "ipython3",
   "version": "3.11.8"
  }
 },
 "nbformat": 4,
 "nbformat_minor": 2
}

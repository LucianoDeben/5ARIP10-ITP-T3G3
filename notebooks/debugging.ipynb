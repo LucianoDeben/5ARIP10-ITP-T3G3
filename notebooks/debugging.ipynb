{
 "cells": [
  {
   "cell_type": "code",
   "execution_count": null,
   "metadata": {},
   "outputs": [],
   "source": [
    "import os\n",
    "\n",
    "def delete_license_files(root_dir):\n",
    "    for dirpath, dirnames, filenames in os.walk(root_dir):\n",
    "        for filename in filenames:\n",
    "            if filename == \"LICENSE\":\n",
    "                file_path = os.path.join(dirpath, filename)\n",
    "                try:\n",
    "                    os.remove(file_path)\n",
    "                    print(f\"Deleted: {file_path}\")\n",
    "                except Exception as e:\n",
    "                    print(f\"Error deleting {file_path}: {e}\")\n",
    "\n",
    "# Specify the root folder here\n",
    "root_folder = '../data'\n",
    "\n",
    "delete_license_files(root_folder)"
   ]
  },
  {
   "cell_type": "code",
   "execution_count": null,
   "metadata": {},
   "outputs": [],
   "source": [
    "import csv\n",
    "\n",
    "def datalist_csv(data):\n",
    "\n",
    "    # Specify the field names\n",
    "    fieldnames = data[0].keys()\n",
    "\n",
    "    # Specify the name of the CSV file\n",
    "    csv_file = \"data.csv\"\n",
    "\n",
    "    # Write data to CSV file\n",
    "    with open(csv_file, mode='w', newline='') as file:\n",
    "        writer = csv.DictWriter(file, fieldnames=fieldnames)\n",
    "        \n",
    "        # Write header\n",
    "        writer.writeheader()\n",
    "        \n",
    "        # Write rows\n",
    "        for row in data:\n",
    "            writer.writerow(row)\n",
    "\n",
    "    print(\"CSV file created successfully.\")\n",
    "\n",
    "\n",
    "datalist_csv(train_dl)"
   ]
  }
 ],
 "metadata": {
  "language_info": {
   "name": "python"
  }
 },
 "nbformat": 4,
 "nbformat_minor": 2
}

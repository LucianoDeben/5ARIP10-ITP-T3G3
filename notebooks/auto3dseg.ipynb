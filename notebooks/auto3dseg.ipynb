{
 "cells": [
  {
   "cell_type": "code",
   "execution_count": null,
   "metadata": {},
   "outputs": [],
   "source": [
    "# Import libraries\n",
    "from monai.data import DataLoader\n",
    "from monai.transforms import (EnsureChannelFirstd,\n",
    "Compose, LoadImaged, ResampleToMatchd, MapTransform, SaveImaged, LoadImage)\n",
    "\n",
    "from monai.apps import TciaDataset\n",
    "from monai.apps.auto3dseg import AutoRunner\n",
    "from monai.bundle import ConfigParser\n",
    "\n",
    "from monai.config import print_config\n",
    "import json\n",
    "\n",
    "print_config()"
   ]
  },
  {
   "cell_type": "code",
   "execution_count": null,
   "metadata": {},
   "outputs": [],
   "source": [
    "# Add a fold key to all the training data\n",
    "train_dataset.datalist = [{**item, 'fold': 0} for item in train_dataset.datalist]\n",
    "\n",
    "# Change \"seg\" to \"label\" in the datalist\n",
    "for item in train_dataset.datalist:\n",
    "    item[\"label\"] = item.pop(\"seg\")\n",
    "    \n",
    "for item in test_dataset.datalist:\n",
    "    item[\"label\"] = item.pop(\"seg\")\n",
    "\n",
    "# Concatenate the training and test datalists\n",
    "data_list = {\"training\": train_dataset.datalist, \"testing\": test_dataset.datalist}\n",
    "\n",
    "datalist_file = \"../auto3dseg_datalist.json\"\n",
    "with open(datalist_file, \"w\") as f:\n",
    "    json.dump(data_list, f)\n",
    "# Create input configuration .yaml file\n",
    "input_config = {\n",
    "    \"name\": \"HCC-TACE-Seg\",\n",
    "    \"task\": \"segmentation\",  \n",
    "    \"modality\": \"CT\", \n",
    "    \"datalist\": \"../auto3dseg_datalist.json\", \n",
    "    \"dataroot\": \"../data\", \n",
    "}\n",
    "\n",
    "config_yaml = \"../auto3dseg_config.yaml\"\n",
    "ConfigParser.export_config_file(input_config, config_yaml)"
   ]
  },
  {
   "cell_type": "code",
   "execution_count": null,
   "metadata": {},
   "outputs": [],
   "source": [
    "runner = AutoRunner(work_dir = \"../data/auto3dseg\",train=False, input=input_config, algos=[\"segresnet\", \"segresnet2d\", \"swinunetr\"])\n",
    "runner.run()"
   ]
  }
 ],
 "metadata": {
  "language_info": {
   "name": "python"
  }
 },
 "nbformat": 4,
 "nbformat_minor": 2
}

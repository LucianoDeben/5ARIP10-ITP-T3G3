{
 "cells": [
  {
   "cell_type": "code",
   "execution_count": 1,
   "metadata": {},
   "outputs": [],
   "source": [
    "import io\n",
    "import os\n",
    "import requests\n",
    "import shutil\n",
    "import tempfile\n",
    "import zipfile\n",
    "from dotenv import load_dotenv\n",
    "import os\n",
    "import sys\n"
   ]
  },
  {
   "cell_type": "code",
   "execution_count": 6,
   "metadata": {},
   "outputs": [],
   "source": [
    "# Load all environment variables\n",
    "load_dotenv()\n",
    "\n",
    "NVIDIA_API_KEY = os.getenv('NVIDIA_API_KEY')\n"
   ]
  },
  {
   "cell_type": "code",
   "execution_count": 3,
   "metadata": {},
   "outputs": [],
   "source": [
    "import os\n",
    "import re\n",
    "\n",
    "import nibabel as nib\n",
    "import numpy as np\n",
    "import pydicom\n",
    "import dicom2nifti\n",
    "\n",
    "\n",
    "def dicom_to_nifti(data_root):\n",
    "\n",
    "    # Regular expression to match the patient directories\n",
    "    patient_dir_pattern = re.compile(r\"HCC_\\d{3}\")\n",
    "\n",
    "    # Iterate over all directories in the dataset\n",
    "    for directory in os.listdir(data_root):\n",
    "        # If the directory is a patient directory\n",
    "        if patient_dir_pattern.match(directory):\n",
    "            \n",
    "            patient_image_dir = os.path.join(data_root, directory, \"300\", \"image\")\n",
    "            patient_seg_dir = os.path.join(data_root, directory, \"300\", \"seg\")\n",
    "\n",
    "            # Convert the DICOM images to NIfTI\n",
    "            dicom2nifti.convert_directory(patient_image_dir, patient_image_dir, compression=True, reorient=True)\n",
    "            \n",
    "            # Delete the original DICOM images\n",
    "            for filename in os.listdir(patient_image_dir):\n",
    "                if filename.endswith(\".dcm\"):\n",
    "                    os.remove(os.path.join(patient_image_dir, filename))\n",
    "                    \n",
    "            # Rename the NIfTI files to match the expected file names\n",
    "            for filename in os.listdir(patient_image_dir):\n",
    "                if filename.endswith(\".nii.gz\"):\n",
    "                    output_file = os.path.join(patient_image_dir, filename)\n",
    "                    new_file_name = os.path.join(patient_image_dir, directory + '.nii.gz')\n",
    "                \n",
    "                    # If the destination file already exists, delete it\n",
    "                    if os.path.exists(new_file_name):\n",
    "                        os.remove(new_file_name) \n",
    "                \n",
    "                    os.rename(output_file, new_file_name)\n",
    "\n",
    "            # Convert the DICOM segmentations to NIfTI\n",
    "            for filename in os.listdir(patient_seg_dir):\n",
    "                if filename.endswith(\".dcm\"):\n",
    "                    dicom_file_path = os.path.join(patient_seg_dir, filename)\n",
    "                    dicom_data = pydicom.dcmread(dicom_file_path)\n",
    "                    array_data = dicom_data.pixel_array\n",
    "                    array_data = np.transpose(array_data, (2, 0, 1))  # Depending on the orientation of your DICOM data, you might need to transpose the array\n",
    "                    nifti_image = nib.Nifti1Image(array_data, np.eye(4))\n",
    "                    nib.save(nifti_image, os.path.join(patient_seg_dir, directory + '_seg.nii.gz'))\n",
    "\n",
    "                    # Delete the original DICOM segmentations\n",
    "                    os.remove(dicom_file_path)"
   ]
  },
  {
   "cell_type": "code",
   "execution_count": 4,
   "metadata": {},
   "outputs": [],
   "source": [
    "dicom_to_nifti(data_root=\"../data/HCC-TACE-Seg\")"
   ]
  },
  {
   "cell_type": "code",
   "execution_count": 8,
   "metadata": {},
   "outputs": [
    {
     "ename": "HTTPError",
     "evalue": "404 Client Error: Not Found for url: https://health.api.nvidia.com/v1/stg/medicalimaging/nvidia/vista-3d",
     "output_type": "error",
     "traceback": [
      "\u001b[1;31m---------------------------------------------------------------------------\u001b[0m",
      "\u001b[1;31mHTTPError\u001b[0m                                 Traceback (most recent call last)",
      "Cell \u001b[1;32mIn[8], line 19\u001b[0m\n\u001b[0;32m     16\u001b[0m session \u001b[38;5;241m=\u001b[39m requests\u001b[38;5;241m.\u001b[39mSession()\n\u001b[0;32m     17\u001b[0m response \u001b[38;5;241m=\u001b[39m session\u001b[38;5;241m.\u001b[39mpost(invoke_url, headers\u001b[38;5;241m=\u001b[39mheaders, json\u001b[38;5;241m=\u001b[39mpayload)\n\u001b[1;32m---> 19\u001b[0m \u001b[43mresponse\u001b[49m\u001b[38;5;241;43m.\u001b[39;49m\u001b[43mraise_for_status\u001b[49m\u001b[43m(\u001b[49m\u001b[43m)\u001b[49m\n\u001b[0;32m     20\u001b[0m \u001b[38;5;28;01mwith\u001b[39;00m tempfile\u001b[38;5;241m.\u001b[39mTemporaryDirectory() \u001b[38;5;28;01mas\u001b[39;00m temp_dir:\n\u001b[0;32m     21\u001b[0m     z \u001b[38;5;241m=\u001b[39m zipfile\u001b[38;5;241m.\u001b[39mZipFile(io\u001b[38;5;241m.\u001b[39mBytesIO(response\u001b[38;5;241m.\u001b[39mcontent))\n",
      "File \u001b[1;32mc:\\Users\\20191678\\AppData\\Local\\anaconda3\\envs\\torch-gpu\\Lib\\site-packages\\requests\\models.py:1021\u001b[0m, in \u001b[0;36mResponse.raise_for_status\u001b[1;34m(self)\u001b[0m\n\u001b[0;32m   1016\u001b[0m     http_error_msg \u001b[38;5;241m=\u001b[39m (\n\u001b[0;32m   1017\u001b[0m         \u001b[38;5;124mf\u001b[39m\u001b[38;5;124m\"\u001b[39m\u001b[38;5;132;01m{\u001b[39;00m\u001b[38;5;28mself\u001b[39m\u001b[38;5;241m.\u001b[39mstatus_code\u001b[38;5;132;01m}\u001b[39;00m\u001b[38;5;124m Server Error: \u001b[39m\u001b[38;5;132;01m{\u001b[39;00mreason\u001b[38;5;132;01m}\u001b[39;00m\u001b[38;5;124m for url: \u001b[39m\u001b[38;5;132;01m{\u001b[39;00m\u001b[38;5;28mself\u001b[39m\u001b[38;5;241m.\u001b[39murl\u001b[38;5;132;01m}\u001b[39;00m\u001b[38;5;124m\"\u001b[39m\n\u001b[0;32m   1018\u001b[0m     )\n\u001b[0;32m   1020\u001b[0m \u001b[38;5;28;01mif\u001b[39;00m http_error_msg:\n\u001b[1;32m-> 1021\u001b[0m     \u001b[38;5;28;01mraise\u001b[39;00m HTTPError(http_error_msg, response\u001b[38;5;241m=\u001b[39m\u001b[38;5;28mself\u001b[39m)\n",
      "\u001b[1;31mHTTPError\u001b[0m: 404 Client Error: Not Found for url: https://health.api.nvidia.com/v1/stg/medicalimaging/nvidia/vista-3d"
     ]
    }
   ],
   "source": [
    "invoke_url = \"https://health.api.nvidia.com/v1/stg/medicalimaging/nvidia/vista-3d\"\n",
    "\n",
    "headers = {\n",
    "    \"Authorization\": f\"Bearer {NVIDIA_API_KEY}\",\n",
    "}\n",
    "\n",
    "sample = \"HCC_017_seg\"\n",
    "payload = {\n",
    "    \"image\": f\"data\\HCC-TACE-Seg\\HCC_017\\300\\seg\\{sample}.nii.gz\",\n",
    "    \"prompts\": {\n",
    "        \"classes\": [\"liver\", \"spleen\"]\n",
    "    }\n",
    "}\n",
    "\n",
    "# re-use connections\n",
    "session = requests.Session()\n",
    "response = session.post(invoke_url, headers=headers, json=payload)\n",
    "\n",
    "response.raise_for_status()\n",
    "with tempfile.TemporaryDirectory() as temp_dir:\n",
    "    z = zipfile.ZipFile(io.BytesIO(response.content))\n",
    "    z.extractall(temp_dir)\n",
    "    shutil.move(os.path.join(temp_dir, os.listdir(temp_dir)[0]), f\"{sample}_seg.nrrd\")\n",
    "\n",
    "print(\"---------------------------------------------------------------\")\n",
    "print(f\"Input Image: {payload['image']}\")\n",
    "print(f\"Class Prompts: {payload.get('prompts', {}).get('classes')}\")\n",
    "print(f\"Response Mask: {sample}_seg.nrrd\")\n",
    "print(\"\")\n"
   ]
  }
 ],
 "metadata": {
  "kernelspec": {
   "display_name": "torch-gpu",
   "language": "python",
   "name": "python3"
  },
  "language_info": {
   "codemirror_mode": {
    "name": "ipython",
    "version": 3
   },
   "file_extension": ".py",
   "mimetype": "text/x-python",
   "name": "python",
   "nbconvert_exporter": "python",
   "pygments_lexer": "ipython3",
   "version": "3.11.8"
  }
 },
 "nbformat": 4,
 "nbformat_minor": 2
}

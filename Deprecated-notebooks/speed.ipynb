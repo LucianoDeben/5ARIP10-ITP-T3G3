{
 "cells": [
  {
   "cell_type": "code",
   "execution_count": 1,
   "metadata": {},
   "outputs": [],
   "source": [
    "import sys\n",
    "sys.path.append(\"..\")\n",
    "import src.model\n",
    "import torch\n",
    "from timeit import default_timer as timer\n",
    "import numpy as np\n",
    "import torchvision.transforms as tf"
   ]
  },
  {
   "cell_type": "code",
   "execution_count": 2,
   "metadata": {},
   "outputs": [
    {
     "name": "stdout",
     "output_type": "stream",
     "text": [
      "0.3245492000132799\n"
     ]
    }
   ],
   "source": [
    "model = src.model.TACEnet().to('cuda')\n",
    "input1 = torch.rand([1,1,512,512,96]).to('cuda')\n",
    "input2 = torch.rand([1,1,256,256]).to('cuda')\n",
    "\n",
    "start = timer()\n",
    "output, _ = model(input1,input2)\n",
    "end = timer()\n",
    "\n",
    "print(end-start)"
   ]
  },
  {
   "cell_type": "code",
   "execution_count": 3,
   "metadata": {},
   "outputs": [
    {
     "name": "stdout",
     "output_type": "stream",
     "text": [
      "0.004521600087173283\n"
     ]
    }
   ],
   "source": [
    "model = src.model.ConvNet().to('cuda')\n",
    "array = np.random.randint(0, 1, size=(256,256,2))\n",
    "transform = tf.ToTensor()\n",
    "\n",
    "\n",
    "start = timer()\n",
    "input = transform(array).to('cuda').float().unsqueeze(0)\n",
    "output = model(input)\n",
    "end = timer()\n",
    "\n",
    "print(end-start)"
   ]
  }
 ],
 "metadata": {
  "kernelspec": {
   "display_name": "torch",
   "language": "python",
   "name": "python3"
  },
  "language_info": {
   "codemirror_mode": {
    "name": "ipython",
    "version": 3
   },
   "file_extension": ".py",
   "mimetype": "text/x-python",
   "name": "python",
   "nbconvert_exporter": "python",
   "pygments_lexer": "ipython3",
   "version": "3.12.2"
  }
 },
 "nbformat": 4,
 "nbformat_minor": 2
}
